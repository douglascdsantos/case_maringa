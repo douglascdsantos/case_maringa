{
  "nbformat": 4,
  "nbformat_minor": 0,
  "metadata": {
    "colab": {
      "name": "caseMaringa_oficial.ipynb",
      "provenance": [],
      "collapsed_sections": []
    },
    "kernelspec": {
      "name": "python3",
      "display_name": "Python 3"
    },
    "language_info": {
      "name": "python"
    }
  },
  "cells": [
    {
      "cell_type": "markdown",
      "source": [
        "# Bibliotecas utilizadas"
      ],
      "metadata": {
        "id": "94q8NiHhVreb"
      }
    },
    {
      "cell_type": "code",
      "execution_count": 1,
      "metadata": {
        "id": "so38VCcH0QdG",
        "colab": {
          "base_uri": "https://localhost:8080/"
        },
        "outputId": "e3d78137-6242-436c-e141-dacd9163cfff"
      },
      "outputs": [
        {
          "output_type": "stream",
          "name": "stdout",
          "text": [
            "Requirement already satisfied: unidecode in /usr/local/lib/python3.7/dist-packages (1.3.3)\n"
          ]
        }
      ],
      "source": [
        "!pip install unidecode\n",
        "import unidecode \n",
        "import pandas as pd\n",
        "import numpy as np\n",
        "from datetime import datetime\n",
        "from IPython.display import IFrame\n",
        "# from google.colab import drive\n",
        "# drive.mount('/content/drive')"
      ]
    },
    {
      "cell_type": "markdown",
      "source": [
        "# Entendimento do Negócio\n",
        "\n",
        "Para produção do bio-redutor para ser utilizado na fábrica para a redução dos minérios inicia-se nas `fazendas` em seus `talhões` temos as florestas com as varias `espécies` de árvores.\n",
        "\n",
        "Após o corte das florestas as toras ficam `dias secando` em temperatura ambiente, então, ela é transportada para a `UPR` (Unidade de Produção de bio-Redutor).\n",
        "\n",
        "Uma vez na UPR, o processo inicia-se com a entrada da `madeira` ao forno junto com `tiço enfornado`, pedaço de madeira meio chamuscado que ainda não virou o bio-redutor.\n",
        "\n",
        "Então é iniciado a processo de pirólise e como produtos temos:\n",
        "- `Tiço gerado` o qual será utilizado no próximo processo de pirólise no forno entrando como tiço enfornado; e\n",
        "- Bio-redutor, identificado como `produção` em nossa base de dados.\n",
        "\n",
        "Com o bio-redutor produzido é feito o levantamento de suas caracteristicas quanto a sua `densidade`, percentual de `finos` (pequenas particulas), `umidade`, `carbono fixo` e `comprimento`.\n",
        "\n"
      ],
      "metadata": {
        "id": "JEbhzIATl3Ey"
      }
    },
    {
      "cell_type": "markdown",
      "source": [
        "# Dicionário de Variáveis:\n",
        "- `Data`: data da coleta de dados;\n",
        "- `UPR`: unidade de produção de bio-redutor;\n",
        "- `Fazenda`: local onde tem os talhões;\n",
        "- `Talhão`: subdivisões da fazenda e local onde são plantadas as árvores;\n",
        "- `Espécie`: espécie da árvore cultivada;\n",
        "- `Idade`: idade das árvores (anos); \n",
        "- `Dias Secagem`: quantidade de dias que as árvores estão secando ao ar livre;\n",
        "- `Madeira`: volume estéreo de madeira enfornada (m³);\n",
        "- `Tiço Enfornado`: volume estéreo de tiço enfornado (m³);\n",
        "- `Tiço Gerado`: volume estéreo de tiço gerado (m³);\n",
        "- `Produção`: volume estéreo de bio-redutor (m³);\n",
        "- `Densidade`: densidade do bio-redutor (kg/m3)\n",
        "- `Finos`: particulas pequenas presentes no bio-redutor (%);\n",
        "- `Umidade`: umidade do bio-redutor (%);\n",
        "- `CF %`: carbono fixo presente no bio-redutor (%);\n",
        "- `Comprimento`: comprimento do bio-redutor (m)"
      ],
      "metadata": {
        "id": "m_DHnkwIqwGd"
      }
    },
    {
      "cell_type": "markdown",
      "source": [
        "# Importação dos dados"
      ],
      "metadata": {
        "id": "a9rFGmtFBTRU"
      }
    },
    {
      "cell_type": "code",
      "source": [
        "caminho = 'https://github.com/douglascdsantos/case_maringa/blob/main/base_de_dados.xlsx?raw=true'\n",
        "dados = pd.read_excel(caminho)\n",
        "dados.head()"
      ],
      "metadata": {
        "id": "NXwsBdrD3PVt",
        "colab": {
          "base_uri": "https://localhost:8080/",
          "height": 206
        },
        "outputId": "c85fc552-83fe-43af-d5f1-666a1b5ceb64"
      },
      "execution_count": 2,
      "outputs": [
        {
          "output_type": "execute_result",
          "data": {
            "text/html": [
              "\n",
              "  <div id=\"df-b60f660e-3a89-4f37-9e92-75670fda93c1\">\n",
              "    <div class=\"colab-df-container\">\n",
              "      <div>\n",
              "<style scoped>\n",
              "    .dataframe tbody tr th:only-of-type {\n",
              "        vertical-align: middle;\n",
              "    }\n",
              "\n",
              "    .dataframe tbody tr th {\n",
              "        vertical-align: top;\n",
              "    }\n",
              "\n",
              "    .dataframe thead th {\n",
              "        text-align: right;\n",
              "    }\n",
              "</style>\n",
              "<table border=\"1\" class=\"dataframe\">\n",
              "  <thead>\n",
              "    <tr style=\"text-align: right;\">\n",
              "      <th></th>\n",
              "      <th>Data</th>\n",
              "      <th>UPR</th>\n",
              "      <th>Fazenda</th>\n",
              "      <th>Talhão</th>\n",
              "      <th>Espécie</th>\n",
              "      <th>Idade</th>\n",
              "      <th>Dias Secagem</th>\n",
              "      <th>Madeira</th>\n",
              "      <th>Tiço Enfornado</th>\n",
              "      <th>Tiço Gerado</th>\n",
              "      <th>Produção</th>\n",
              "      <th>Densidade</th>\n",
              "      <th>Finos</th>\n",
              "      <th>Umidade</th>\n",
              "      <th>CF %</th>\n",
              "      <th>Comprimento</th>\n",
              "    </tr>\n",
              "  </thead>\n",
              "  <tbody>\n",
              "    <tr>\n",
              "      <th>0</th>\n",
              "      <td>43466</td>\n",
              "      <td>Maringá</td>\n",
              "      <td>Maringá II</td>\n",
              "      <td>67</td>\n",
              "      <td>-</td>\n",
              "      <td>10.66</td>\n",
              "      <td>161.0</td>\n",
              "      <td>476.83</td>\n",
              "      <td>56.1</td>\n",
              "      <td>65.29</td>\n",
              "      <td>61.91</td>\n",
              "      <td>268.82</td>\n",
              "      <td>10.57</td>\n",
              "      <td>5.05</td>\n",
              "      <td>78.03</td>\n",
              "      <td>NaN</td>\n",
              "    </tr>\n",
              "    <tr>\n",
              "      <th>1</th>\n",
              "      <td>43466</td>\n",
              "      <td>Maringá</td>\n",
              "      <td>Maringá II</td>\n",
              "      <td>67</td>\n",
              "      <td>-</td>\n",
              "      <td>10.66</td>\n",
              "      <td>162.0</td>\n",
              "      <td>483.2</td>\n",
              "      <td>55.4</td>\n",
              "      <td>63.71</td>\n",
              "      <td>61.68</td>\n",
              "      <td>268.82</td>\n",
              "      <td>10.57</td>\n",
              "      <td>5.05</td>\n",
              "      <td>78.03</td>\n",
              "      <td>NaN</td>\n",
              "    </tr>\n",
              "    <tr>\n",
              "      <th>2</th>\n",
              "      <td>43466</td>\n",
              "      <td>Maringá</td>\n",
              "      <td>Maringá II</td>\n",
              "      <td>67</td>\n",
              "      <td>-</td>\n",
              "      <td>10.66</td>\n",
              "      <td>163.0</td>\n",
              "      <td>487.6</td>\n",
              "      <td>53.5</td>\n",
              "      <td>60</td>\n",
              "      <td>60.39</td>\n",
              "      <td>268.82</td>\n",
              "      <td>10.57</td>\n",
              "      <td>5.05</td>\n",
              "      <td>78.03</td>\n",
              "      <td>NaN</td>\n",
              "    </tr>\n",
              "    <tr>\n",
              "      <th>3</th>\n",
              "      <td>43466</td>\n",
              "      <td>Maringá</td>\n",
              "      <td>Maringá II</td>\n",
              "      <td>67</td>\n",
              "      <td>-</td>\n",
              "      <td>10.66</td>\n",
              "      <td>166.0</td>\n",
              "      <td>460.27</td>\n",
              "      <td>44.69</td>\n",
              "      <td>46.34</td>\n",
              "      <td>56.49</td>\n",
              "      <td>268.82</td>\n",
              "      <td>10.57</td>\n",
              "      <td>5.05</td>\n",
              "      <td>78.03</td>\n",
              "      <td>NaN</td>\n",
              "    </tr>\n",
              "    <tr>\n",
              "      <th>4</th>\n",
              "      <td>43466</td>\n",
              "      <td>Maringá</td>\n",
              "      <td>Maringá II</td>\n",
              "      <td>67</td>\n",
              "      <td>-</td>\n",
              "      <td>10.66</td>\n",
              "      <td>167.0</td>\n",
              "      <td>477.35</td>\n",
              "      <td>58.71</td>\n",
              "      <td>66.08</td>\n",
              "      <td>60.00</td>\n",
              "      <td>268.82</td>\n",
              "      <td>10.57</td>\n",
              "      <td>5.05</td>\n",
              "      <td>78.03</td>\n",
              "      <td>NaN</td>\n",
              "    </tr>\n",
              "  </tbody>\n",
              "</table>\n",
              "</div>\n",
              "      <button class=\"colab-df-convert\" onclick=\"convertToInteractive('df-b60f660e-3a89-4f37-9e92-75670fda93c1')\"\n",
              "              title=\"Convert this dataframe to an interactive table.\"\n",
              "              style=\"display:none;\">\n",
              "        \n",
              "  <svg xmlns=\"http://www.w3.org/2000/svg\" height=\"24px\"viewBox=\"0 0 24 24\"\n",
              "       width=\"24px\">\n",
              "    <path d=\"M0 0h24v24H0V0z\" fill=\"none\"/>\n",
              "    <path d=\"M18.56 5.44l.94 2.06.94-2.06 2.06-.94-2.06-.94-.94-2.06-.94 2.06-2.06.94zm-11 1L8.5 8.5l.94-2.06 2.06-.94-2.06-.94L8.5 2.5l-.94 2.06-2.06.94zm10 10l.94 2.06.94-2.06 2.06-.94-2.06-.94-.94-2.06-.94 2.06-2.06.94z\"/><path d=\"M17.41 7.96l-1.37-1.37c-.4-.4-.92-.59-1.43-.59-.52 0-1.04.2-1.43.59L10.3 9.45l-7.72 7.72c-.78.78-.78 2.05 0 2.83L4 21.41c.39.39.9.59 1.41.59.51 0 1.02-.2 1.41-.59l7.78-7.78 2.81-2.81c.8-.78.8-2.07 0-2.86zM5.41 20L4 18.59l7.72-7.72 1.47 1.35L5.41 20z\"/>\n",
              "  </svg>\n",
              "      </button>\n",
              "      \n",
              "  <style>\n",
              "    .colab-df-container {\n",
              "      display:flex;\n",
              "      flex-wrap:wrap;\n",
              "      gap: 12px;\n",
              "    }\n",
              "\n",
              "    .colab-df-convert {\n",
              "      background-color: #E8F0FE;\n",
              "      border: none;\n",
              "      border-radius: 50%;\n",
              "      cursor: pointer;\n",
              "      display: none;\n",
              "      fill: #1967D2;\n",
              "      height: 32px;\n",
              "      padding: 0 0 0 0;\n",
              "      width: 32px;\n",
              "    }\n",
              "\n",
              "    .colab-df-convert:hover {\n",
              "      background-color: #E2EBFA;\n",
              "      box-shadow: 0px 1px 2px rgba(60, 64, 67, 0.3), 0px 1px 3px 1px rgba(60, 64, 67, 0.15);\n",
              "      fill: #174EA6;\n",
              "    }\n",
              "\n",
              "    [theme=dark] .colab-df-convert {\n",
              "      background-color: #3B4455;\n",
              "      fill: #D2E3FC;\n",
              "    }\n",
              "\n",
              "    [theme=dark] .colab-df-convert:hover {\n",
              "      background-color: #434B5C;\n",
              "      box-shadow: 0px 1px 3px 1px rgba(0, 0, 0, 0.15);\n",
              "      filter: drop-shadow(0px 1px 2px rgba(0, 0, 0, 0.3));\n",
              "      fill: #FFFFFF;\n",
              "    }\n",
              "  </style>\n",
              "\n",
              "      <script>\n",
              "        const buttonEl =\n",
              "          document.querySelector('#df-b60f660e-3a89-4f37-9e92-75670fda93c1 button.colab-df-convert');\n",
              "        buttonEl.style.display =\n",
              "          google.colab.kernel.accessAllowed ? 'block' : 'none';\n",
              "\n",
              "        async function convertToInteractive(key) {\n",
              "          const element = document.querySelector('#df-b60f660e-3a89-4f37-9e92-75670fda93c1');\n",
              "          const dataTable =\n",
              "            await google.colab.kernel.invokeFunction('convertToInteractive',\n",
              "                                                     [key], {});\n",
              "          if (!dataTable) return;\n",
              "\n",
              "          const docLinkHtml = 'Like what you see? Visit the ' +\n",
              "            '<a target=\"_blank\" href=https://colab.research.google.com/notebooks/data_table.ipynb>data table notebook</a>'\n",
              "            + ' to learn more about interactive tables.';\n",
              "          element.innerHTML = '';\n",
              "          dataTable['output_type'] = 'display_data';\n",
              "          await google.colab.output.renderOutput(dataTable, element);\n",
              "          const docLink = document.createElement('div');\n",
              "          docLink.innerHTML = docLinkHtml;\n",
              "          element.appendChild(docLink);\n",
              "        }\n",
              "      </script>\n",
              "    </div>\n",
              "  </div>\n",
              "  "
            ],
            "text/plain": [
              "    Data      UPR     Fazenda Talhão  ...  Finos Umidade   CF % Comprimento\n",
              "0  43466  Maringá  Maringá II     67  ...  10.57    5.05  78.03         NaN\n",
              "1  43466  Maringá  Maringá II     67  ...  10.57    5.05  78.03         NaN\n",
              "2  43466  Maringá  Maringá II     67  ...  10.57    5.05  78.03         NaN\n",
              "3  43466  Maringá  Maringá II     67  ...  10.57    5.05  78.03         NaN\n",
              "4  43466  Maringá  Maringá II     67  ...  10.57    5.05  78.03         NaN\n",
              "\n",
              "[5 rows x 16 columns]"
            ]
          },
          "metadata": {},
          "execution_count": 2
        }
      ]
    },
    {
      "cell_type": "markdown",
      "source": [
        "# Limpeza dos dados\n",
        "\n",
        "Além das entrada feitas de maneira incorreta foi analisado os ausentes, constatado em 5 variáveis sendo elas:"
      ],
      "metadata": {
        "id": "tMo6rZ5RTILU"
      }
    },
    {
      "cell_type": "code",
      "source": [
        "dados.isnull().sum()[dados.isnull().sum() > 0]"
      ],
      "metadata": {
        "id": "m0lPLvlf3Tw7",
        "colab": {
          "base_uri": "https://localhost:8080/"
        },
        "outputId": "f1ec7faf-7b01-465d-89df-1536d35b2cb8"
      },
      "execution_count": 3,
      "outputs": [
        {
          "output_type": "execute_result",
          "data": {
            "text/plain": [
              "Dias Secagem       2\n",
              "Densidade         20\n",
              "Finos             20\n",
              "Umidade           20\n",
              "Comprimento     3613\n",
              "dtype: int64"
            ]
          },
          "metadata": {},
          "execution_count": 3
        }
      ]
    },
    {
      "cell_type": "markdown",
      "source": [
        "## Variável `Data`\n",
        "Esta iniciamente estava como o formato do excel de data (como 43466\"), então, foi passada para o formato datetime do python."
      ],
      "metadata": {
        "id": "ndYUjIHMTROE"
      }
    },
    {
      "cell_type": "code",
      "source": [
        "dados['Data'] = [datetime.fromordinal(datetime(1900, 1, 1).toordinal() + excel_data - 2) for excel_data in dados['Data']]\n",
        "dados.head()"
      ],
      "metadata": {
        "id": "ZVODez-L34jM",
        "colab": {
          "base_uri": "https://localhost:8080/",
          "height": 206
        },
        "outputId": "3a9ac910-8f15-4dc1-ee9d-a30cec9a5df6"
      },
      "execution_count": 4,
      "outputs": [
        {
          "output_type": "execute_result",
          "data": {
            "text/html": [
              "\n",
              "  <div id=\"df-9c5c4795-b537-4e20-82af-60e363691a13\">\n",
              "    <div class=\"colab-df-container\">\n",
              "      <div>\n",
              "<style scoped>\n",
              "    .dataframe tbody tr th:only-of-type {\n",
              "        vertical-align: middle;\n",
              "    }\n",
              "\n",
              "    .dataframe tbody tr th {\n",
              "        vertical-align: top;\n",
              "    }\n",
              "\n",
              "    .dataframe thead th {\n",
              "        text-align: right;\n",
              "    }\n",
              "</style>\n",
              "<table border=\"1\" class=\"dataframe\">\n",
              "  <thead>\n",
              "    <tr style=\"text-align: right;\">\n",
              "      <th></th>\n",
              "      <th>Data</th>\n",
              "      <th>UPR</th>\n",
              "      <th>Fazenda</th>\n",
              "      <th>Talhão</th>\n",
              "      <th>Espécie</th>\n",
              "      <th>Idade</th>\n",
              "      <th>Dias Secagem</th>\n",
              "      <th>Madeira</th>\n",
              "      <th>Tiço Enfornado</th>\n",
              "      <th>Tiço Gerado</th>\n",
              "      <th>Produção</th>\n",
              "      <th>Densidade</th>\n",
              "      <th>Finos</th>\n",
              "      <th>Umidade</th>\n",
              "      <th>CF %</th>\n",
              "      <th>Comprimento</th>\n",
              "    </tr>\n",
              "  </thead>\n",
              "  <tbody>\n",
              "    <tr>\n",
              "      <th>0</th>\n",
              "      <td>2019-01-01</td>\n",
              "      <td>Maringá</td>\n",
              "      <td>Maringá II</td>\n",
              "      <td>67</td>\n",
              "      <td>-</td>\n",
              "      <td>10.66</td>\n",
              "      <td>161.0</td>\n",
              "      <td>476.83</td>\n",
              "      <td>56.1</td>\n",
              "      <td>65.29</td>\n",
              "      <td>61.91</td>\n",
              "      <td>268.82</td>\n",
              "      <td>10.57</td>\n",
              "      <td>5.05</td>\n",
              "      <td>78.03</td>\n",
              "      <td>NaN</td>\n",
              "    </tr>\n",
              "    <tr>\n",
              "      <th>1</th>\n",
              "      <td>2019-01-01</td>\n",
              "      <td>Maringá</td>\n",
              "      <td>Maringá II</td>\n",
              "      <td>67</td>\n",
              "      <td>-</td>\n",
              "      <td>10.66</td>\n",
              "      <td>162.0</td>\n",
              "      <td>483.2</td>\n",
              "      <td>55.4</td>\n",
              "      <td>63.71</td>\n",
              "      <td>61.68</td>\n",
              "      <td>268.82</td>\n",
              "      <td>10.57</td>\n",
              "      <td>5.05</td>\n",
              "      <td>78.03</td>\n",
              "      <td>NaN</td>\n",
              "    </tr>\n",
              "    <tr>\n",
              "      <th>2</th>\n",
              "      <td>2019-01-01</td>\n",
              "      <td>Maringá</td>\n",
              "      <td>Maringá II</td>\n",
              "      <td>67</td>\n",
              "      <td>-</td>\n",
              "      <td>10.66</td>\n",
              "      <td>163.0</td>\n",
              "      <td>487.6</td>\n",
              "      <td>53.5</td>\n",
              "      <td>60</td>\n",
              "      <td>60.39</td>\n",
              "      <td>268.82</td>\n",
              "      <td>10.57</td>\n",
              "      <td>5.05</td>\n",
              "      <td>78.03</td>\n",
              "      <td>NaN</td>\n",
              "    </tr>\n",
              "    <tr>\n",
              "      <th>3</th>\n",
              "      <td>2019-01-01</td>\n",
              "      <td>Maringá</td>\n",
              "      <td>Maringá II</td>\n",
              "      <td>67</td>\n",
              "      <td>-</td>\n",
              "      <td>10.66</td>\n",
              "      <td>166.0</td>\n",
              "      <td>460.27</td>\n",
              "      <td>44.69</td>\n",
              "      <td>46.34</td>\n",
              "      <td>56.49</td>\n",
              "      <td>268.82</td>\n",
              "      <td>10.57</td>\n",
              "      <td>5.05</td>\n",
              "      <td>78.03</td>\n",
              "      <td>NaN</td>\n",
              "    </tr>\n",
              "    <tr>\n",
              "      <th>4</th>\n",
              "      <td>2019-01-01</td>\n",
              "      <td>Maringá</td>\n",
              "      <td>Maringá II</td>\n",
              "      <td>67</td>\n",
              "      <td>-</td>\n",
              "      <td>10.66</td>\n",
              "      <td>167.0</td>\n",
              "      <td>477.35</td>\n",
              "      <td>58.71</td>\n",
              "      <td>66.08</td>\n",
              "      <td>60.00</td>\n",
              "      <td>268.82</td>\n",
              "      <td>10.57</td>\n",
              "      <td>5.05</td>\n",
              "      <td>78.03</td>\n",
              "      <td>NaN</td>\n",
              "    </tr>\n",
              "  </tbody>\n",
              "</table>\n",
              "</div>\n",
              "      <button class=\"colab-df-convert\" onclick=\"convertToInteractive('df-9c5c4795-b537-4e20-82af-60e363691a13')\"\n",
              "              title=\"Convert this dataframe to an interactive table.\"\n",
              "              style=\"display:none;\">\n",
              "        \n",
              "  <svg xmlns=\"http://www.w3.org/2000/svg\" height=\"24px\"viewBox=\"0 0 24 24\"\n",
              "       width=\"24px\">\n",
              "    <path d=\"M0 0h24v24H0V0z\" fill=\"none\"/>\n",
              "    <path d=\"M18.56 5.44l.94 2.06.94-2.06 2.06-.94-2.06-.94-.94-2.06-.94 2.06-2.06.94zm-11 1L8.5 8.5l.94-2.06 2.06-.94-2.06-.94L8.5 2.5l-.94 2.06-2.06.94zm10 10l.94 2.06.94-2.06 2.06-.94-2.06-.94-.94-2.06-.94 2.06-2.06.94z\"/><path d=\"M17.41 7.96l-1.37-1.37c-.4-.4-.92-.59-1.43-.59-.52 0-1.04.2-1.43.59L10.3 9.45l-7.72 7.72c-.78.78-.78 2.05 0 2.83L4 21.41c.39.39.9.59 1.41.59.51 0 1.02-.2 1.41-.59l7.78-7.78 2.81-2.81c.8-.78.8-2.07 0-2.86zM5.41 20L4 18.59l7.72-7.72 1.47 1.35L5.41 20z\"/>\n",
              "  </svg>\n",
              "      </button>\n",
              "      \n",
              "  <style>\n",
              "    .colab-df-container {\n",
              "      display:flex;\n",
              "      flex-wrap:wrap;\n",
              "      gap: 12px;\n",
              "    }\n",
              "\n",
              "    .colab-df-convert {\n",
              "      background-color: #E8F0FE;\n",
              "      border: none;\n",
              "      border-radius: 50%;\n",
              "      cursor: pointer;\n",
              "      display: none;\n",
              "      fill: #1967D2;\n",
              "      height: 32px;\n",
              "      padding: 0 0 0 0;\n",
              "      width: 32px;\n",
              "    }\n",
              "\n",
              "    .colab-df-convert:hover {\n",
              "      background-color: #E2EBFA;\n",
              "      box-shadow: 0px 1px 2px rgba(60, 64, 67, 0.3), 0px 1px 3px 1px rgba(60, 64, 67, 0.15);\n",
              "      fill: #174EA6;\n",
              "    }\n",
              "\n",
              "    [theme=dark] .colab-df-convert {\n",
              "      background-color: #3B4455;\n",
              "      fill: #D2E3FC;\n",
              "    }\n",
              "\n",
              "    [theme=dark] .colab-df-convert:hover {\n",
              "      background-color: #434B5C;\n",
              "      box-shadow: 0px 1px 3px 1px rgba(0, 0, 0, 0.15);\n",
              "      filter: drop-shadow(0px 1px 2px rgba(0, 0, 0, 0.3));\n",
              "      fill: #FFFFFF;\n",
              "    }\n",
              "  </style>\n",
              "\n",
              "      <script>\n",
              "        const buttonEl =\n",
              "          document.querySelector('#df-9c5c4795-b537-4e20-82af-60e363691a13 button.colab-df-convert');\n",
              "        buttonEl.style.display =\n",
              "          google.colab.kernel.accessAllowed ? 'block' : 'none';\n",
              "\n",
              "        async function convertToInteractive(key) {\n",
              "          const element = document.querySelector('#df-9c5c4795-b537-4e20-82af-60e363691a13');\n",
              "          const dataTable =\n",
              "            await google.colab.kernel.invokeFunction('convertToInteractive',\n",
              "                                                     [key], {});\n",
              "          if (!dataTable) return;\n",
              "\n",
              "          const docLinkHtml = 'Like what you see? Visit the ' +\n",
              "            '<a target=\"_blank\" href=https://colab.research.google.com/notebooks/data_table.ipynb>data table notebook</a>'\n",
              "            + ' to learn more about interactive tables.';\n",
              "          element.innerHTML = '';\n",
              "          dataTable['output_type'] = 'display_data';\n",
              "          await google.colab.output.renderOutput(dataTable, element);\n",
              "          const docLink = document.createElement('div');\n",
              "          docLink.innerHTML = docLinkHtml;\n",
              "          element.appendChild(docLink);\n",
              "        }\n",
              "      </script>\n",
              "    </div>\n",
              "  </div>\n",
              "  "
            ],
            "text/plain": [
              "        Data      UPR     Fazenda Talhão  ...  Finos Umidade   CF % Comprimento\n",
              "0 2019-01-01  Maringá  Maringá II     67  ...  10.57    5.05  78.03         NaN\n",
              "1 2019-01-01  Maringá  Maringá II     67  ...  10.57    5.05  78.03         NaN\n",
              "2 2019-01-01  Maringá  Maringá II     67  ...  10.57    5.05  78.03         NaN\n",
              "3 2019-01-01  Maringá  Maringá II     67  ...  10.57    5.05  78.03         NaN\n",
              "4 2019-01-01  Maringá  Maringá II     67  ...  10.57    5.05  78.03         NaN\n",
              "\n",
              "[5 rows x 16 columns]"
            ]
          },
          "metadata": {},
          "execution_count": 4
        }
      ]
    },
    {
      "cell_type": "markdown",
      "source": [
        "## Variável `UPR`\n",
        "\n",
        "Neste temos 6 unidades de produção, não foi necessário tratamento."
      ],
      "metadata": {
        "id": "M2BB4ZaLluZ7"
      }
    },
    {
      "cell_type": "code",
      "source": [
        "dados['UPR'].value_counts()"
      ],
      "metadata": {
        "id": "GklD-17Mls_S",
        "colab": {
          "base_uri": "https://localhost:8080/"
        },
        "outputId": "b3580875-0af1-4419-aae8-c3b090c3b705"
      },
      "execution_count": 5,
      "outputs": [
        {
          "output_type": "execute_result",
          "data": {
            "text/plain": [
              "Tamanduá              1409\n",
              "Butiá                  762\n",
              "Maringá                652\n",
              "Mato Dentro            344\n",
              "Ribeirão da Ilha       329\n",
              "Maringá Retangular     235\n",
              "Name: UPR, dtype: int64"
            ]
          },
          "metadata": {},
          "execution_count": 5
        }
      ]
    },
    {
      "cell_type": "markdown",
      "source": [
        "## Variável `Fazenda`\n",
        "\n",
        "Encontramos que a mesma fazenda está com entradas distintas, como `Alba` e `alba`, vamos deixar todas as entradas minúsculas, remover os acentos para tratar casos como `Maringá II` e `Maringa II` e substituir `Diversos (tocos)` e `Diversos (ticos)` por `ticos`."
      ],
      "metadata": {
        "id": "JJi_5ywTC8rd"
      }
    },
    {
      "cell_type": "code",
      "source": [
        "print('Entradas únicas', len(dados['Fazenda'].value_counts()))\n",
        "dados['Fazenda'].value_counts()"
      ],
      "metadata": {
        "id": "_08RJi87lrU2",
        "colab": {
          "base_uri": "https://localhost:8080/"
        },
        "outputId": "8902ae93-2c82-439b-c069-ca11712edf95"
      },
      "execution_count": 6,
      "outputs": [
        {
          "output_type": "stream",
          "name": "stdout",
          "text": [
            "Entradas únicas 32\n"
          ]
        },
        {
          "output_type": "execute_result",
          "data": {
            "text/plain": [
              "Tamanduá            729\n",
              "Alba                709\n",
              "Fecho               604\n",
              "Butiá               470\n",
              "Ribeirão da Ilha    316\n",
              "Itambé              236\n",
              "Maringá II          122\n",
              "RFC                 108\n",
              "Komiya               97\n",
              "Chaddad              87\n",
              "Wagner               37\n",
              "Dona Rita            27\n",
              "alba                 26\n",
              "butiá                24\n",
              "Elizael              20\n",
              "itambé               15\n",
              "Diversos (Tiços)     14\n",
              "Ribeirão da ilha     13\n",
              "Maringa II           13\n",
              "Indumine             12\n",
              "Tiços                11\n",
              "Butia                 9\n",
              "Sítio Taquari         9\n",
              "Taquari               5\n",
              "indumine              4\n",
              "Maringá I             4\n",
              "Diversos (Tocos)      3\n",
              "Ita Rio (Compra)      2\n",
              "Sítio Ressaca         2\n",
              "komiya                1\n",
              "Ressaca               1\n",
              "Caviunas              1\n",
              "Name: Fazenda, dtype: int64"
            ]
          },
          "metadata": {},
          "execution_count": 6
        }
      ]
    },
    {
      "cell_type": "markdown",
      "source": [
        "As substituições por semelhança foram feitas e de 32 entradas únicas chegamos a 20."
      ],
      "metadata": {
        "id": "UDH66I_XUKsJ"
      }
    },
    {
      "cell_type": "code",
      "source": [
        "dados['Fazenda'] = [unidecode.unidecode(entrada.lower()) for entrada in dados['Fazenda']]\n",
        "fazendas_substituicao = {'ticos':['diversos (ticos)', 'diversos (tocos)'], 'sitio ressaca': 'ressaca', 'sitio taquari': 'taquari'}\n",
        "for chave in list(fazendas_substituicao.keys()):\n",
        "  dados['Fazenda'] = [chave if entrada in fazendas_substituicao[chave] else entrada for entrada in dados['Fazenda']]\n",
        "print('Entradas únicas após tratamento',len(dados['Fazenda'].value_counts()))\n",
        "dados['Fazenda'] = dados['Fazenda'].astype(str)\n",
        "dados['Fazenda'].value_counts()"
      ],
      "metadata": {
        "id": "EGQIdDt0FNt8",
        "colab": {
          "base_uri": "https://localhost:8080/"
        },
        "outputId": "ba098550-f195-4832-95fb-73c236254037"
      },
      "execution_count": 7,
      "outputs": [
        {
          "output_type": "stream",
          "name": "stdout",
          "text": [
            "Entradas únicas após tratamento 20\n"
          ]
        },
        {
          "output_type": "execute_result",
          "data": {
            "text/plain": [
              "alba                735\n",
              "tamandua            729\n",
              "fecho               604\n",
              "butia               503\n",
              "ribeirao da ilha    329\n",
              "itambe              251\n",
              "maringa ii          135\n",
              "rfc                 108\n",
              "komiya               98\n",
              "chaddad              87\n",
              "wagner               37\n",
              "ticos                28\n",
              "dona rita            27\n",
              "elizael              20\n",
              "indumine             16\n",
              "sitio taquari        14\n",
              "maringa i             4\n",
              "sitio ressaca         3\n",
              "ita rio (compra)      2\n",
              "caviunas              1\n",
              "Name: Fazenda, dtype: int64"
            ]
          },
          "metadata": {},
          "execution_count": 7
        }
      ]
    },
    {
      "cell_type": "markdown",
      "source": [
        "## Variável `Talhão`\n",
        "\n",
        "Alguns dos dados que mais se repetem dessa coluna apresentam o nome da fazenda replicada, sem informação de qual talhão se originou."
      ],
      "metadata": {
        "id": "hQnSpO2JsGqI"
      }
    },
    {
      "cell_type": "code",
      "source": [
        "print('Quantidade de entradas únicas',len(dados['Talhão'].value_counts()))\n",
        "print('\\nTop 10:')\n",
        "dados['Talhão'].value_counts()[:10]"
      ],
      "metadata": {
        "id": "LLytZ2Cbxrxc",
        "colab": {
          "base_uri": "https://localhost:8080/"
        },
        "outputId": "052cc472-b5a1-43f0-da42-faaaabde3b4b"
      },
      "execution_count": 8,
      "outputs": [
        {
          "output_type": "stream",
          "name": "stdout",
          "text": [
            "Quantidade de entradas únicas 248\n",
            "\n",
            "Top 10:\n"
          ]
        },
        {
          "output_type": "execute_result",
          "data": {
            "text/plain": [
              "14         141\n",
              "27         110\n",
              "RFC        108\n",
              "63         105\n",
              "73         100\n",
              "24          95\n",
              "Komiya      93\n",
              "Chaddad     84\n",
              "69          82\n",
              "37          77\n",
              "Name: Talhão, dtype: int64"
            ]
          },
          "metadata": {},
          "execution_count": 8
        }
      ]
    },
    {
      "cell_type": "markdown",
      "source": [
        "Vamos avaliar as entradas que estão diferente do esperado, dentre essas temos muitas que já vimos nos nomes das fazendas, vamos avaliar as espécies de cada uma dessas."
      ],
      "metadata": {
        "id": "HDrWVthBx2Ha"
      }
    },
    {
      "cell_type": "code",
      "source": [
        "talhao_diferente_int = [type(entrada) != int for entrada in dados['Talhão']]\n",
        "dados['Talhão'][talhao_diferente_int].value_counts()[:15]"
      ],
      "metadata": {
        "id": "VC4iDhYeq7bi",
        "colab": {
          "base_uri": "https://localhost:8080/"
        },
        "outputId": "30126488-c49d-4adf-859d-6ecc9356a51d"
      },
      "execution_count": 9,
      "outputs": [
        {
          "output_type": "execute_result",
          "data": {
            "text/plain": [
              "RFC                    108\n",
              "Komiya                  93\n",
              "Chaddad                 84\n",
              "DIV                     43\n",
              "Wagner                  37\n",
              "Elizael                 20\n",
              "Tora                    15\n",
              "17-100                  14\n",
              "64-106                  10\n",
              "2024-11-01 00:00:00     10\n",
              "DIV.                    10\n",
              "24-45-46                 8\n",
              "21-22-106                6\n",
              "23-24                    6\n",
              "Diversos (Tiços)         6\n",
              "Name: Talhão, dtype: int64"
            ]
          },
          "metadata": {},
          "execution_count": 9
        }
      ]
    },
    {
      "cell_type": "markdown",
      "source": [
        "Aqui notamos de que não tem alguma espécie especifica, podemos considerar a hipótese de que vieram de fornecedores externo, portanto, é esperado não ter um padrão de talhão como nos outros."
      ],
      "metadata": {
        "id": "4xGLyy_oyt3T"
      }
    },
    {
      "cell_type": "code",
      "source": [
        "talhao_dict = dict(dados['Talhão'][talhao_diferente_int].value_counts()[:7])\n",
        "for entrada in list(talhao_dict.keys()):\n",
        "  print(entrada,'\\t', dados.query('Talhão == @entrada')['Espécie'].unique())"
      ],
      "metadata": {
        "id": "DtU4M8tfwGNK",
        "colab": {
          "base_uri": "https://localhost:8080/"
        },
        "outputId": "2aa3399c-7237-4092-bb67-7552b7b1bf16"
      },
      "execution_count": 10,
      "outputs": [
        {
          "output_type": "stream",
          "name": "stdout",
          "text": [
            "RFC \t [' Diversos ']\n",
            "Komiya \t [' -   ' ' Diversos ']\n",
            "Chaddad \t [' -   ' ' Diversos ']\n",
            "DIV \t [' -   ' ' Semente ' ' Diversos ' '  ']\n",
            "Wagner \t [' Diversos ']\n",
            "Elizael \t [' Diversos ']\n",
            "Tora \t [' -   ' ' Semente ']\n"
          ]
        }
      ]
    },
    {
      "cell_type": "markdown",
      "source": [
        "Dessa forma vamos tratar todas essas entradas como uma talhão 0 para ficar algo semelhante ao esperado."
      ],
      "metadata": {
        "id": "TlDGVKr-zsRJ"
      }
    },
    {
      "cell_type": "code",
      "source": [
        "dados['Talhão'] = [0 if type(entrada) != int else entrada for entrada in dados['Talhão']]\n",
        "dados['Talhão'].value_counts()[:15]"
      ],
      "metadata": {
        "id": "kC4zdjemwmoR",
        "colab": {
          "base_uri": "https://localhost:8080/"
        },
        "outputId": "62559a36-7bf9-44f9-96c5-ca60735f456c"
      },
      "execution_count": 11,
      "outputs": [
        {
          "output_type": "execute_result",
          "data": {
            "text/plain": [
              "0     662\n",
              "14    141\n",
              "27    110\n",
              "63    105\n",
              "73    100\n",
              "24     95\n",
              "69     82\n",
              "37     77\n",
              "5      76\n",
              "75     73\n",
              "29     69\n",
              "32     64\n",
              "15     61\n",
              "33     59\n",
              "19     58\n",
              "Name: Talhão, dtype: int64"
            ]
          },
          "metadata": {},
          "execution_count": 11
        }
      ]
    },
    {
      "cell_type": "markdown",
      "source": [
        "## Variável `Espécie`\n",
        "\n",
        "Nesta coluna temos espaços no inicio e ao final dos textos, também encontramos casos da mesma espécie em caixa alta e baixa.\n",
        "\n",
        "Quanto a entrada \"-\" e vazio vamos fazer um substiuição observando o valor mais frequênte da espécie vinda da fazenda de origem de cada caso."
      ],
      "metadata": {
        "id": "tostpdUI0zOt"
      }
    },
    {
      "cell_type": "code",
      "source": [
        "dados['Espécie'].value_counts()"
      ],
      "metadata": {
        "id": "uQaXTAS606_Z",
        "colab": {
          "base_uri": "https://localhost:8080/"
        },
        "outputId": "af4049f6-148a-4fb8-f153-dd98a7e1ac86"
      },
      "execution_count": 12,
      "outputs": [
        {
          "output_type": "execute_result",
          "data": {
            "text/plain": [
              " -                            895\n",
              " Clone Saligna 2864           893\n",
              " Clone Urograndis 2361        802\n",
              " Semente                      438\n",
              " Diversos                     297\n",
              " Semente Saligna Ecoplant     113\n",
              " Clone urograndis 2361         85\n",
              " Clone Urograndis I 144        59\n",
              " Clone Urograndis GG100        59\n",
              " Clone saligna 2864            48\n",
              " Semente Saligna ecoplant      16\n",
              " semente                       14\n",
              " AEC 2034                       6\n",
              " Clone Urucam                   3\n",
              " Clone Urucam ITAPEVA           2\n",
              "                                1\n",
              "Name: Espécie, dtype: int64"
            ]
          },
          "metadata": {},
          "execution_count": 12
        }
      ]
    },
    {
      "cell_type": "markdown",
      "source": [
        "Inicialmente foi montado um dicionário para receber o nome da fazenda e a espécie mais frequênte da mesma, para casos em que havia somente \"-\" vamos tratar com a entrada mais frequênte da variável após esse primeiro tratamento."
      ],
      "metadata": {
        "id": "ftlQUZTf3dz_"
      }
    },
    {
      "cell_type": "code",
      "source": [
        "especies_faltantes_fazendas = dados.query('Espécie == \" -   \"')['Fazenda'].unique()\n",
        "lista_aux = []\n",
        "for i in [dados.query('Fazenda == @fazenda & Espécie != \" -   \"')['Espécie'].mode() for fazenda in especies_faltantes_fazendas]:\n",
        "  if len(i) == 1:\n",
        "    lista_aux.append(i[0].strip())\n",
        "  else:\n",
        "    lista_aux.append(\"-\")\n",
        "\n",
        "especies_substituicao = dict(zip(especies_faltantes_fazendas,lista_aux))\n",
        "especies_substituicao"
      ],
      "metadata": {
        "id": "zWFvLerLfykz",
        "colab": {
          "base_uri": "https://localhost:8080/"
        },
        "outputId": "1fec1509-6625-421c-995b-2660126b9bcb"
      },
      "execution_count": 13,
      "outputs": [
        {
          "output_type": "execute_result",
          "data": {
            "text/plain": [
              "{'alba': 'Clone Urograndis 2361',\n",
              " 'butia': 'Clone Saligna 2864',\n",
              " 'chaddad': 'Diversos',\n",
              " 'dona rita': '-',\n",
              " 'fecho': 'Clone Saligna 2864',\n",
              " 'indumine': '-',\n",
              " 'ita rio (compra)': '-',\n",
              " 'itambe': 'Semente',\n",
              " 'komiya': 'Diversos',\n",
              " 'maringa ii': 'Semente',\n",
              " 'ribeirao da ilha': 'Semente',\n",
              " 'sitio taquari': 'Clone Urograndis 2361',\n",
              " 'tamandua': 'Clone Saligna 2864',\n",
              " 'ticos': 'Diversos'}"
            ]
          },
          "metadata": {},
          "execution_count": 13
        }
      ]
    },
    {
      "cell_type": "markdown",
      "source": [
        "Realizando a substituição dado as condições caso a caso das espécies, quanto aos casos com \"-\" foram substituidos pela espécie mais recorrente. Sobre a \"clone urucam\" e \"clone urucam itapeva\" foi optado por mante-la assim por razão de de que está pois pode haver um distinção como é o caso de clone urograndis em que temos `i 144` e `gg100` e por serem somente 3 entradas."
      ],
      "metadata": {
        "id": "T3E358jJmHBm"
      }
    },
    {
      "cell_type": "code",
      "source": [
        "especie_substituicao_final = []\n",
        "for entrada in range(dados.shape[0]):\n",
        "  if entrada in dados.query('Espécie == \" -   \"').index:\n",
        "    for fazenda in especies_substituicao.keys():\n",
        "      if dados['Fazenda'].iloc[entrada] == fazenda:\n",
        "        especie_substituicao_final.append(especies_substituicao[fazenda])\n",
        "  else:\n",
        "    especie_substituicao_final.append(dados['Espécie'].iloc[entrada])\n",
        "dados['Espécie'] = [entrada.strip().lower() for entrada in especie_substituicao_final]\n",
        "dados['Espécie'] = [entrada.replace('-',dados['Espécie'].mode()[0]) if entrada != \"\" else dados['Espécie'].mode()[0] for entrada in dados['Espécie']]"
      ],
      "metadata": {
        "id": "zYiL5xz2hgIM"
      },
      "execution_count": 14,
      "outputs": []
    },
    {
      "cell_type": "markdown",
      "source": [
        "Após o tratamento temos como entradas únicas e suas aparições."
      ],
      "metadata": {
        "id": "aKFgY9tNoqP9"
      }
    },
    {
      "cell_type": "code",
      "source": [
        "dados['Espécie'].value_counts()"
      ],
      "metadata": {
        "id": "ZT6wDpoHjIC8",
        "colab": {
          "base_uri": "https://localhost:8080/"
        },
        "outputId": "75358a78-eacd-43c3-a5ac-f80a8c3af860"
      },
      "execution_count": 15,
      "outputs": [
        {
          "output_type": "execute_result",
          "data": {
            "text/plain": [
              "clone saligna 2864          1483\n",
              "clone urograndis 2361        963\n",
              "semente                      645\n",
              "diversos                     382\n",
              "semente saligna ecoplant     129\n",
              "clone urograndis i 144        59\n",
              "clone urograndis gg100        59\n",
              "aec 2034                       6\n",
              "clone urucam                   3\n",
              "clone urucam itapeva           2\n",
              "Name: Espécie, dtype: int64"
            ]
          },
          "metadata": {},
          "execution_count": 15
        }
      ]
    },
    {
      "cell_type": "markdown",
      "source": [
        "## Variável `Idade`\n",
        "\n",
        "Ao tentar converter todos os dados para valor decimal (float) retornou um erro de que teria algum texto, foi localizado e estava com espaços"
      ],
      "metadata": {
        "id": "ztEGQk7t4bWk"
      }
    },
    {
      "cell_type": "code",
      "source": [
        "idade_texto = (dados['Idade'][[type(entrada) == str for entrada in dados['Idade']]]).index[0]\n",
        "dados.loc[idade_texto]"
      ],
      "metadata": {
        "id": "BOwFnIqz4eIM",
        "colab": {
          "base_uri": "https://localhost:8080/"
        },
        "outputId": "1a41b821-29eb-46ec-91d2-0392ebb4ff78"
      },
      "execution_count": 16,
      "outputs": [
        {
          "output_type": "execute_result",
          "data": {
            "text/plain": [
              "Data              2020-09-01 00:00:00\n",
              "UPR                Maringá Retangular\n",
              "Fazenda                      caviunas\n",
              "Talhão                              0\n",
              "Espécie            clone saligna 2864\n",
              "Idade                                \n",
              "Dias Secagem                      NaN\n",
              "Madeira                           115\n",
              "Tiço Enfornado                      6\n",
              "Tiço Gerado                      5.83\n",
              "Produção                        13.07\n",
              "Densidade                      243.67\n",
              "Finos                           10.74\n",
              "Umidade                          2.58\n",
              "CF %                            81.26\n",
              "Comprimento                       NaN\n",
              "Name: 3249, dtype: object"
            ]
          },
          "metadata": {},
          "execution_count": 16
        }
      ]
    },
    {
      "cell_type": "markdown",
      "source": [
        "Para ficar coerente vamos substituir o espaço em branco pela média da idade no da data especifica, sendo 8.54 ao invés de 9.47 que é a média da idade de todos os dados, não foi possível calcular com base na Fazenda uma vez que temos somente uma entrada de \"caviunas\"."
      ],
      "metadata": {
        "id": "3-OhDhlM9al_"
      }
    },
    {
      "cell_type": "code",
      "source": [
        "idade_media_periodo = dados[[type(entrada) != str for entrada in dados['Idade']]].query('Data == \"2020-09-01\"')['Idade'].mean()\n",
        "print(f'Idade média do período para substituição: {idade_media_periodo:.2f}')\n",
        "dados['Idade'] = [idade_media_periodo if type(entrada) == str else entrada for entrada in dados['Idade']]\n",
        "dados['Idade'] = dados['Idade'].astype(float)\n",
        "dados['Idade'].describe()"
      ],
      "metadata": {
        "id": "Ls3vyreQ7uPe",
        "colab": {
          "base_uri": "https://localhost:8080/"
        },
        "outputId": "cddb53eb-2d2a-422b-a984-ddb8b9432a2c"
      },
      "execution_count": 17,
      "outputs": [
        {
          "output_type": "stream",
          "name": "stdout",
          "text": [
            "Idade média do período para substituição: 8.54\n"
          ]
        },
        {
          "output_type": "execute_result",
          "data": {
            "text/plain": [
              "count    3731.000000\n",
              "mean        9.465041\n",
              "std         2.636173\n",
              "min         3.570000\n",
              "25%         8.160000\n",
              "50%         9.010000\n",
              "75%        10.360000\n",
              "max        37.010000\n",
              "Name: Idade, dtype: float64"
            ]
          },
          "metadata": {},
          "execution_count": 17
        }
      ]
    },
    {
      "cell_type": "markdown",
      "source": [
        "## Variável `Dias Secagem`\n",
        "\n",
        "Nesta coluna temos 2 dados ausentes, vamos preenche-los com a média"
      ],
      "metadata": {
        "id": "7lFZi1Q9_ALY"
      }
    },
    {
      "cell_type": "code",
      "source": [
        "print(f'Entradas ausentes: {dados[\"Dias Secagem\"].isnull().sum()}\\n')\n",
        "dados[\"Dias Secagem\"].fillna(dados[\"Dias Secagem\"].mean(), inplace = True)\n",
        "dados[\"Dias Secagem\"].describe()"
      ],
      "metadata": {
        "id": "2kuOpXj36UT3",
        "colab": {
          "base_uri": "https://localhost:8080/"
        },
        "outputId": "9b911623-78b9-4b6c-9f57-eeab2c3fa797"
      },
      "execution_count": 18,
      "outputs": [
        {
          "output_type": "stream",
          "name": "stdout",
          "text": [
            "Entradas ausentes: 2\n",
            "\n"
          ]
        },
        {
          "output_type": "execute_result",
          "data": {
            "text/plain": [
              "count    3731.000000\n",
              "mean      259.692947\n",
              "std       131.431191\n",
              "min         3.000000\n",
              "25%       173.000000\n",
              "50%       236.000000\n",
              "75%       320.000000\n",
              "max      1115.000000\n",
              "Name: Dias Secagem, dtype: float64"
            ]
          },
          "metadata": {},
          "execution_count": 18
        }
      ]
    },
    {
      "cell_type": "code",
      "source": [
        "dados[\"Dias Secagem\"].mean()"
      ],
      "metadata": {
        "id": "BHJWTtRU28hq",
        "colab": {
          "base_uri": "https://localhost:8080/"
        },
        "outputId": "2c4da103-1ed2-469a-b1d2-cfc67a30dbde"
      },
      "execution_count": 19,
      "outputs": [
        {
          "output_type": "execute_result",
          "data": {
            "text/plain": [
              "259.6929471708233"
            ]
          },
          "metadata": {},
          "execution_count": 19
        }
      ]
    },
    {
      "cell_type": "markdown",
      "source": [
        "##  Variável `Madeira`\n",
        "\n",
        "Aqui temos um valor faltante registrado como \" -   \""
      ],
      "metadata": {
        "id": "9YuDM5Kk_TjX"
      }
    },
    {
      "cell_type": "code",
      "source": [
        "dados['Madeira'].value_counts()"
      ],
      "metadata": {
        "id": "D_m2snFRxC-s",
        "colab": {
          "base_uri": "https://localhost:8080/"
        },
        "outputId": "aa32bceb-6a2a-4af4-c8b9-97950b420a2e"
      },
      "execution_count": 20,
      "outputs": [
        {
          "output_type": "execute_result",
          "data": {
            "text/plain": [
              " -        30\n",
              "34.87      7\n",
              "105        7\n",
              "110        5\n",
              "32         5\n",
              "          ..\n",
              "111.73     1\n",
              "56.44      1\n",
              "164.76     1\n",
              "149.51     1\n",
              "101.54     1\n",
              "Name: Madeira, Length: 3222, dtype: int64"
            ]
          },
          "metadata": {},
          "execution_count": 20
        }
      ]
    },
    {
      "cell_type": "markdown",
      "source": [
        "Para realizar o tratamento da quantidade de madeira enfornada representada por \"-\" não iremos pegar a média do período como feito anteriormente, pois como vimos na parte de **entendimento do negócio** para a pirólise no forno é feito um mix de madeira e tiço, como o tiço já passou por um ciclo anterior então o mesmo possui uma menor umidade, dessa forma facilitando a combustão do mix.\n"
      ],
      "metadata": {
        "id": "oKzm_DnlyrS6"
      }
    },
    {
      "cell_type": "code",
      "source": [
        "dados.query('Madeira == \" -   \"')"
      ],
      "metadata": {
        "id": "f7ABwK8V_Ve3",
        "colab": {
          "base_uri": "https://localhost:8080/",
          "height": 990
        },
        "outputId": "e11e1b51-d30f-41e1-d297-97ba34c9e19f"
      },
      "execution_count": 21,
      "outputs": [
        {
          "output_type": "execute_result",
          "data": {
            "text/html": [
              "\n",
              "  <div id=\"df-dbe5cf77-d812-47f0-a538-8cfd55ea152b\">\n",
              "    <div class=\"colab-df-container\">\n",
              "      <div>\n",
              "<style scoped>\n",
              "    .dataframe tbody tr th:only-of-type {\n",
              "        vertical-align: middle;\n",
              "    }\n",
              "\n",
              "    .dataframe tbody tr th {\n",
              "        vertical-align: top;\n",
              "    }\n",
              "\n",
              "    .dataframe thead th {\n",
              "        text-align: right;\n",
              "    }\n",
              "</style>\n",
              "<table border=\"1\" class=\"dataframe\">\n",
              "  <thead>\n",
              "    <tr style=\"text-align: right;\">\n",
              "      <th></th>\n",
              "      <th>Data</th>\n",
              "      <th>UPR</th>\n",
              "      <th>Fazenda</th>\n",
              "      <th>Talhão</th>\n",
              "      <th>Espécie</th>\n",
              "      <th>Idade</th>\n",
              "      <th>Dias Secagem</th>\n",
              "      <th>Madeira</th>\n",
              "      <th>Tiço Enfornado</th>\n",
              "      <th>Tiço Gerado</th>\n",
              "      <th>Produção</th>\n",
              "      <th>Densidade</th>\n",
              "      <th>Finos</th>\n",
              "      <th>Umidade</th>\n",
              "      <th>CF %</th>\n",
              "      <th>Comprimento</th>\n",
              "    </tr>\n",
              "  </thead>\n",
              "  <tbody>\n",
              "    <tr>\n",
              "      <th>1756</th>\n",
              "      <td>2019-10-01</td>\n",
              "      <td>Maringá</td>\n",
              "      <td>ticos</td>\n",
              "      <td>0</td>\n",
              "      <td>diversos</td>\n",
              "      <td>11.55</td>\n",
              "      <td>598.0</td>\n",
              "      <td>-</td>\n",
              "      <td>42</td>\n",
              "      <td>1</td>\n",
              "      <td>6.90</td>\n",
              "      <td>248.33</td>\n",
              "      <td>9.78</td>\n",
              "      <td>3.92</td>\n",
              "      <td>77.17</td>\n",
              "      <td>NaN</td>\n",
              "    </tr>\n",
              "    <tr>\n",
              "      <th>1802</th>\n",
              "      <td>2019-10-01</td>\n",
              "      <td>Tamanduá</td>\n",
              "      <td>ticos</td>\n",
              "      <td>0</td>\n",
              "      <td>diversos</td>\n",
              "      <td>11.55</td>\n",
              "      <td>604.0</td>\n",
              "      <td>-</td>\n",
              "      <td>39.04</td>\n",
              "      <td>4</td>\n",
              "      <td>8.87</td>\n",
              "      <td>253.60</td>\n",
              "      <td>10.31</td>\n",
              "      <td>4.33</td>\n",
              "      <td>75.83</td>\n",
              "      <td>NaN</td>\n",
              "    </tr>\n",
              "    <tr>\n",
              "      <th>1807</th>\n",
              "      <td>2019-10-01</td>\n",
              "      <td>Tamanduá</td>\n",
              "      <td>ticos</td>\n",
              "      <td>0</td>\n",
              "      <td>diversos</td>\n",
              "      <td>11.55</td>\n",
              "      <td>605.0</td>\n",
              "      <td>-</td>\n",
              "      <td>39.1</td>\n",
              "      <td>4.89</td>\n",
              "      <td>7.57</td>\n",
              "      <td>253.60</td>\n",
              "      <td>10.31</td>\n",
              "      <td>4.33</td>\n",
              "      <td>75.83</td>\n",
              "      <td>NaN</td>\n",
              "    </tr>\n",
              "    <tr>\n",
              "      <th>1811</th>\n",
              "      <td>2019-10-01</td>\n",
              "      <td>Tamanduá</td>\n",
              "      <td>ticos</td>\n",
              "      <td>0</td>\n",
              "      <td>diversos</td>\n",
              "      <td>11.55</td>\n",
              "      <td>606.0</td>\n",
              "      <td>-</td>\n",
              "      <td>38.56</td>\n",
              "      <td>3.43</td>\n",
              "      <td>7.76</td>\n",
              "      <td>253.60</td>\n",
              "      <td>10.31</td>\n",
              "      <td>4.33</td>\n",
              "      <td>75.83</td>\n",
              "      <td>NaN</td>\n",
              "    </tr>\n",
              "    <tr>\n",
              "      <th>1814</th>\n",
              "      <td>2019-10-01</td>\n",
              "      <td>Tamanduá</td>\n",
              "      <td>ticos</td>\n",
              "      <td>0</td>\n",
              "      <td>diversos</td>\n",
              "      <td>11.55</td>\n",
              "      <td>607.0</td>\n",
              "      <td>-</td>\n",
              "      <td>77.41</td>\n",
              "      <td>6.78</td>\n",
              "      <td>12.97</td>\n",
              "      <td>253.60</td>\n",
              "      <td>10.31</td>\n",
              "      <td>4.33</td>\n",
              "      <td>75.83</td>\n",
              "      <td>NaN</td>\n",
              "    </tr>\n",
              "    <tr>\n",
              "      <th>1818</th>\n",
              "      <td>2019-10-01</td>\n",
              "      <td>Tamanduá</td>\n",
              "      <td>ticos</td>\n",
              "      <td>0</td>\n",
              "      <td>diversos</td>\n",
              "      <td>11.55</td>\n",
              "      <td>608.0</td>\n",
              "      <td>-</td>\n",
              "      <td>38.5</td>\n",
              "      <td>4.98</td>\n",
              "      <td>7.24</td>\n",
              "      <td>253.60</td>\n",
              "      <td>10.31</td>\n",
              "      <td>4.33</td>\n",
              "      <td>75.83</td>\n",
              "      <td>NaN</td>\n",
              "    </tr>\n",
              "    <tr>\n",
              "      <th>1821</th>\n",
              "      <td>2019-10-01</td>\n",
              "      <td>Tamanduá</td>\n",
              "      <td>ticos</td>\n",
              "      <td>0</td>\n",
              "      <td>diversos</td>\n",
              "      <td>11.55</td>\n",
              "      <td>611.0</td>\n",
              "      <td>-</td>\n",
              "      <td>39</td>\n",
              "      <td>5.21</td>\n",
              "      <td>8.34</td>\n",
              "      <td>253.60</td>\n",
              "      <td>10.31</td>\n",
              "      <td>4.33</td>\n",
              "      <td>75.83</td>\n",
              "      <td>NaN</td>\n",
              "    </tr>\n",
              "    <tr>\n",
              "      <th>1831</th>\n",
              "      <td>2019-10-01</td>\n",
              "      <td>Tamanduá</td>\n",
              "      <td>ticos</td>\n",
              "      <td>0</td>\n",
              "      <td>diversos</td>\n",
              "      <td>11.55</td>\n",
              "      <td>613.0</td>\n",
              "      <td>-</td>\n",
              "      <td>38.98</td>\n",
              "      <td>3</td>\n",
              "      <td>7.58</td>\n",
              "      <td>253.60</td>\n",
              "      <td>10.31</td>\n",
              "      <td>4.33</td>\n",
              "      <td>75.83</td>\n",
              "      <td>NaN</td>\n",
              "    </tr>\n",
              "    <tr>\n",
              "      <th>1837</th>\n",
              "      <td>2019-10-01</td>\n",
              "      <td>Tamanduá</td>\n",
              "      <td>ticos</td>\n",
              "      <td>0</td>\n",
              "      <td>diversos</td>\n",
              "      <td>11.55</td>\n",
              "      <td>614.0</td>\n",
              "      <td>-</td>\n",
              "      <td>38.26</td>\n",
              "      <td>3.12</td>\n",
              "      <td>7.96</td>\n",
              "      <td>253.60</td>\n",
              "      <td>10.31</td>\n",
              "      <td>4.33</td>\n",
              "      <td>75.83</td>\n",
              "      <td>NaN</td>\n",
              "    </tr>\n",
              "    <tr>\n",
              "      <th>1841</th>\n",
              "      <td>2019-10-01</td>\n",
              "      <td>Tamanduá</td>\n",
              "      <td>ticos</td>\n",
              "      <td>0</td>\n",
              "      <td>diversos</td>\n",
              "      <td>11.55</td>\n",
              "      <td>615.0</td>\n",
              "      <td>-</td>\n",
              "      <td>115.67</td>\n",
              "      <td>9.88</td>\n",
              "      <td>23.32</td>\n",
              "      <td>253.60</td>\n",
              "      <td>10.31</td>\n",
              "      <td>4.33</td>\n",
              "      <td>75.83</td>\n",
              "      <td>NaN</td>\n",
              "    </tr>\n",
              "    <tr>\n",
              "      <th>1843</th>\n",
              "      <td>2019-10-01</td>\n",
              "      <td>Tamanduá</td>\n",
              "      <td>ticos</td>\n",
              "      <td>0</td>\n",
              "      <td>diversos</td>\n",
              "      <td>11.55</td>\n",
              "      <td>618.0</td>\n",
              "      <td>-</td>\n",
              "      <td>38.13</td>\n",
              "      <td>4</td>\n",
              "      <td>8.25</td>\n",
              "      <td>253.60</td>\n",
              "      <td>10.31</td>\n",
              "      <td>4.33</td>\n",
              "      <td>75.83</td>\n",
              "      <td>NaN</td>\n",
              "    </tr>\n",
              "    <tr>\n",
              "      <th>1858</th>\n",
              "      <td>2019-10-01</td>\n",
              "      <td>Tamanduá</td>\n",
              "      <td>ticos</td>\n",
              "      <td>0</td>\n",
              "      <td>diversos</td>\n",
              "      <td>11.55</td>\n",
              "      <td>625.0</td>\n",
              "      <td>-</td>\n",
              "      <td>38.65</td>\n",
              "      <td>0.65</td>\n",
              "      <td>9.35</td>\n",
              "      <td>253.60</td>\n",
              "      <td>10.31</td>\n",
              "      <td>4.33</td>\n",
              "      <td>75.83</td>\n",
              "      <td>NaN</td>\n",
              "    </tr>\n",
              "    <tr>\n",
              "      <th>1866</th>\n",
              "      <td>2019-10-01</td>\n",
              "      <td>Tamanduá</td>\n",
              "      <td>ticos</td>\n",
              "      <td>0</td>\n",
              "      <td>diversos</td>\n",
              "      <td>11.55</td>\n",
              "      <td>627.0</td>\n",
              "      <td>-</td>\n",
              "      <td>38.11</td>\n",
              "      <td>3</td>\n",
              "      <td>9.38</td>\n",
              "      <td>253.60</td>\n",
              "      <td>10.31</td>\n",
              "      <td>4.33</td>\n",
              "      <td>75.83</td>\n",
              "      <td>NaN</td>\n",
              "    </tr>\n",
              "    <tr>\n",
              "      <th>1937</th>\n",
              "      <td>2019-11-01</td>\n",
              "      <td>Maringá</td>\n",
              "      <td>ticos</td>\n",
              "      <td>0</td>\n",
              "      <td>diversos</td>\n",
              "      <td>11.55</td>\n",
              "      <td>635.0</td>\n",
              "      <td>-</td>\n",
              "      <td>41.32</td>\n",
              "      <td>-</td>\n",
              "      <td>7.61</td>\n",
              "      <td>252.72</td>\n",
              "      <td>10.10</td>\n",
              "      <td>5.25</td>\n",
              "      <td>79.86</td>\n",
              "      <td>NaN</td>\n",
              "    </tr>\n",
              "    <tr>\n",
              "      <th>2077</th>\n",
              "      <td>2019-12-01</td>\n",
              "      <td>Maringá</td>\n",
              "      <td>alba</td>\n",
              "      <td>0</td>\n",
              "      <td>semente</td>\n",
              "      <td>11.55</td>\n",
              "      <td>676.0</td>\n",
              "      <td>-</td>\n",
              "      <td>39.62</td>\n",
              "      <td>0.5</td>\n",
              "      <td>6.85</td>\n",
              "      <td>250.54</td>\n",
              "      <td>10.33</td>\n",
              "      <td>5.48</td>\n",
              "      <td>78.04</td>\n",
              "      <td>NaN</td>\n",
              "    </tr>\n",
              "    <tr>\n",
              "      <th>2228</th>\n",
              "      <td>2020-01-01</td>\n",
              "      <td>Tamanduá</td>\n",
              "      <td>ticos</td>\n",
              "      <td>0</td>\n",
              "      <td>diversos</td>\n",
              "      <td>10.83</td>\n",
              "      <td>491.0</td>\n",
              "      <td>-</td>\n",
              "      <td>38.57</td>\n",
              "      <td>4</td>\n",
              "      <td>4.68</td>\n",
              "      <td>265.11</td>\n",
              "      <td>11.56</td>\n",
              "      <td>6.55</td>\n",
              "      <td>77.30</td>\n",
              "      <td>NaN</td>\n",
              "    </tr>\n",
              "    <tr>\n",
              "      <th>2232</th>\n",
              "      <td>2020-01-01</td>\n",
              "      <td>Tamanduá</td>\n",
              "      <td>ticos</td>\n",
              "      <td>0</td>\n",
              "      <td>diversos</td>\n",
              "      <td>10.83</td>\n",
              "      <td>492.0</td>\n",
              "      <td>-</td>\n",
              "      <td>38.64</td>\n",
              "      <td>3.98</td>\n",
              "      <td>7.87</td>\n",
              "      <td>265.11</td>\n",
              "      <td>11.56</td>\n",
              "      <td>6.55</td>\n",
              "      <td>77.30</td>\n",
              "      <td>NaN</td>\n",
              "    </tr>\n",
              "    <tr>\n",
              "      <th>2237</th>\n",
              "      <td>2020-01-01</td>\n",
              "      <td>Tamanduá</td>\n",
              "      <td>ticos</td>\n",
              "      <td>0</td>\n",
              "      <td>diversos</td>\n",
              "      <td>10.83</td>\n",
              "      <td>493.0</td>\n",
              "      <td>-</td>\n",
              "      <td>36.98</td>\n",
              "      <td>3.55</td>\n",
              "      <td>7.79</td>\n",
              "      <td>265.11</td>\n",
              "      <td>11.56</td>\n",
              "      <td>6.55</td>\n",
              "      <td>77.30</td>\n",
              "      <td>NaN</td>\n",
              "    </tr>\n",
              "    <tr>\n",
              "      <th>2242</th>\n",
              "      <td>2020-01-01</td>\n",
              "      <td>Tamanduá</td>\n",
              "      <td>ticos</td>\n",
              "      <td>0</td>\n",
              "      <td>diversos</td>\n",
              "      <td>10.83</td>\n",
              "      <td>497.0</td>\n",
              "      <td>-</td>\n",
              "      <td>77.98</td>\n",
              "      <td>8.56</td>\n",
              "      <td>14.58</td>\n",
              "      <td>265.11</td>\n",
              "      <td>11.56</td>\n",
              "      <td>6.55</td>\n",
              "      <td>77.30</td>\n",
              "      <td>NaN</td>\n",
              "    </tr>\n",
              "    <tr>\n",
              "      <th>2251</th>\n",
              "      <td>2020-01-01</td>\n",
              "      <td>Tamanduá</td>\n",
              "      <td>ticos</td>\n",
              "      <td>0</td>\n",
              "      <td>diversos</td>\n",
              "      <td>10.83</td>\n",
              "      <td>503.0</td>\n",
              "      <td>-</td>\n",
              "      <td>75.05</td>\n",
              "      <td>8.23</td>\n",
              "      <td>14.42</td>\n",
              "      <td>265.11</td>\n",
              "      <td>11.56</td>\n",
              "      <td>6.55</td>\n",
              "      <td>77.30</td>\n",
              "      <td>NaN</td>\n",
              "    </tr>\n",
              "    <tr>\n",
              "      <th>2458</th>\n",
              "      <td>2020-03-01</td>\n",
              "      <td>Maringá</td>\n",
              "      <td>ticos</td>\n",
              "      <td>0</td>\n",
              "      <td>diversos</td>\n",
              "      <td>10.83</td>\n",
              "      <td>563.0</td>\n",
              "      <td>-</td>\n",
              "      <td>40.2</td>\n",
              "      <td>3.9</td>\n",
              "      <td>6.11</td>\n",
              "      <td>247.71</td>\n",
              "      <td>10.51</td>\n",
              "      <td>5.99</td>\n",
              "      <td>76.62</td>\n",
              "      <td>NaN</td>\n",
              "    </tr>\n",
              "    <tr>\n",
              "      <th>2461</th>\n",
              "      <td>2020-03-01</td>\n",
              "      <td>Maringá</td>\n",
              "      <td>ticos</td>\n",
              "      <td>0</td>\n",
              "      <td>diversos</td>\n",
              "      <td>10.83</td>\n",
              "      <td>567.0</td>\n",
              "      <td>-</td>\n",
              "      <td>41.3</td>\n",
              "      <td>2.1</td>\n",
              "      <td>6.19</td>\n",
              "      <td>247.71</td>\n",
              "      <td>10.51</td>\n",
              "      <td>5.99</td>\n",
              "      <td>76.62</td>\n",
              "      <td>NaN</td>\n",
              "    </tr>\n",
              "    <tr>\n",
              "      <th>2695</th>\n",
              "      <td>2020-05-01</td>\n",
              "      <td>Maringá</td>\n",
              "      <td>ticos</td>\n",
              "      <td>0</td>\n",
              "      <td>diversos</td>\n",
              "      <td>10.83</td>\n",
              "      <td>602.0</td>\n",
              "      <td>-</td>\n",
              "      <td>38.87</td>\n",
              "      <td>1</td>\n",
              "      <td>7.75</td>\n",
              "      <td>244.84</td>\n",
              "      <td>10.24</td>\n",
              "      <td>3.20</td>\n",
              "      <td>74.17</td>\n",
              "      <td>NaN</td>\n",
              "    </tr>\n",
              "    <tr>\n",
              "      <th>2837</th>\n",
              "      <td>2020-06-01</td>\n",
              "      <td>Maringá</td>\n",
              "      <td>ticos</td>\n",
              "      <td>0</td>\n",
              "      <td>diversos</td>\n",
              "      <td>10.83</td>\n",
              "      <td>644.0</td>\n",
              "      <td>-</td>\n",
              "      <td>78.28</td>\n",
              "      <td>-</td>\n",
              "      <td>7.31</td>\n",
              "      <td>242.32</td>\n",
              "      <td>10.36</td>\n",
              "      <td>4.79</td>\n",
              "      <td>76.33</td>\n",
              "      <td>NaN</td>\n",
              "    </tr>\n",
              "    <tr>\n",
              "      <th>2838</th>\n",
              "      <td>2020-06-01</td>\n",
              "      <td>Maringá</td>\n",
              "      <td>ticos</td>\n",
              "      <td>0</td>\n",
              "      <td>diversos</td>\n",
              "      <td>10.83</td>\n",
              "      <td>644.0</td>\n",
              "      <td>-</td>\n",
              "      <td>39.59</td>\n",
              "      <td>-</td>\n",
              "      <td>6.71</td>\n",
              "      <td>242.32</td>\n",
              "      <td>10.36</td>\n",
              "      <td>4.79</td>\n",
              "      <td>76.33</td>\n",
              "      <td>NaN</td>\n",
              "    </tr>\n",
              "    <tr>\n",
              "      <th>2858</th>\n",
              "      <td>2020-06-01</td>\n",
              "      <td>Maringá</td>\n",
              "      <td>ticos</td>\n",
              "      <td>0</td>\n",
              "      <td>diversos</td>\n",
              "      <td>10.83</td>\n",
              "      <td>654.0</td>\n",
              "      <td>-</td>\n",
              "      <td>39.54</td>\n",
              "      <td>0.75</td>\n",
              "      <td>7.10</td>\n",
              "      <td>242.32</td>\n",
              "      <td>10.36</td>\n",
              "      <td>4.79</td>\n",
              "      <td>76.33</td>\n",
              "      <td>NaN</td>\n",
              "    </tr>\n",
              "    <tr>\n",
              "      <th>3016</th>\n",
              "      <td>2020-07-01</td>\n",
              "      <td>Tamanduá</td>\n",
              "      <td>fecho</td>\n",
              "      <td>0</td>\n",
              "      <td>diversos</td>\n",
              "      <td>11.55</td>\n",
              "      <td>877.0</td>\n",
              "      <td>-</td>\n",
              "      <td>77.43</td>\n",
              "      <td>-</td>\n",
              "      <td>12.21</td>\n",
              "      <td>242.04</td>\n",
              "      <td>10.84</td>\n",
              "      <td>4.76</td>\n",
              "      <td>74.23</td>\n",
              "      <td>NaN</td>\n",
              "    </tr>\n",
              "    <tr>\n",
              "      <th>3022</th>\n",
              "      <td>2020-07-01</td>\n",
              "      <td>Tamanduá</td>\n",
              "      <td>fecho</td>\n",
              "      <td>0</td>\n",
              "      <td>diversos</td>\n",
              "      <td>11.55</td>\n",
              "      <td>880.0</td>\n",
              "      <td>-</td>\n",
              "      <td>38.4</td>\n",
              "      <td>3.9</td>\n",
              "      <td>6.70</td>\n",
              "      <td>242.04</td>\n",
              "      <td>10.84</td>\n",
              "      <td>4.76</td>\n",
              "      <td>74.23</td>\n",
              "      <td>NaN</td>\n",
              "    </tr>\n",
              "    <tr>\n",
              "      <th>3045</th>\n",
              "      <td>2020-07-01</td>\n",
              "      <td>Tamanduá</td>\n",
              "      <td>fecho</td>\n",
              "      <td>0</td>\n",
              "      <td>diversos</td>\n",
              "      <td>11.55</td>\n",
              "      <td>898.0</td>\n",
              "      <td>-</td>\n",
              "      <td>38.79</td>\n",
              "      <td>2.02</td>\n",
              "      <td>7.25</td>\n",
              "      <td>242.04</td>\n",
              "      <td>10.84</td>\n",
              "      <td>4.76</td>\n",
              "      <td>74.23</td>\n",
              "      <td>NaN</td>\n",
              "    </tr>\n",
              "    <tr>\n",
              "      <th>3155</th>\n",
              "      <td>2020-08-01</td>\n",
              "      <td>Tamanduá</td>\n",
              "      <td>tamandua</td>\n",
              "      <td>0</td>\n",
              "      <td>diversos</td>\n",
              "      <td>11.55</td>\n",
              "      <td>925.0</td>\n",
              "      <td>-</td>\n",
              "      <td>38.9</td>\n",
              "      <td>5.13</td>\n",
              "      <td>6.16</td>\n",
              "      <td>241.26</td>\n",
              "      <td>10.52</td>\n",
              "      <td>5.44</td>\n",
              "      <td>75.07</td>\n",
              "      <td>NaN</td>\n",
              "    </tr>\n",
              "  </tbody>\n",
              "</table>\n",
              "</div>\n",
              "      <button class=\"colab-df-convert\" onclick=\"convertToInteractive('df-dbe5cf77-d812-47f0-a538-8cfd55ea152b')\"\n",
              "              title=\"Convert this dataframe to an interactive table.\"\n",
              "              style=\"display:none;\">\n",
              "        \n",
              "  <svg xmlns=\"http://www.w3.org/2000/svg\" height=\"24px\"viewBox=\"0 0 24 24\"\n",
              "       width=\"24px\">\n",
              "    <path d=\"M0 0h24v24H0V0z\" fill=\"none\"/>\n",
              "    <path d=\"M18.56 5.44l.94 2.06.94-2.06 2.06-.94-2.06-.94-.94-2.06-.94 2.06-2.06.94zm-11 1L8.5 8.5l.94-2.06 2.06-.94-2.06-.94L8.5 2.5l-.94 2.06-2.06.94zm10 10l.94 2.06.94-2.06 2.06-.94-2.06-.94-.94-2.06-.94 2.06-2.06.94z\"/><path d=\"M17.41 7.96l-1.37-1.37c-.4-.4-.92-.59-1.43-.59-.52 0-1.04.2-1.43.59L10.3 9.45l-7.72 7.72c-.78.78-.78 2.05 0 2.83L4 21.41c.39.39.9.59 1.41.59.51 0 1.02-.2 1.41-.59l7.78-7.78 2.81-2.81c.8-.78.8-2.07 0-2.86zM5.41 20L4 18.59l7.72-7.72 1.47 1.35L5.41 20z\"/>\n",
              "  </svg>\n",
              "      </button>\n",
              "      \n",
              "  <style>\n",
              "    .colab-df-container {\n",
              "      display:flex;\n",
              "      flex-wrap:wrap;\n",
              "      gap: 12px;\n",
              "    }\n",
              "\n",
              "    .colab-df-convert {\n",
              "      background-color: #E8F0FE;\n",
              "      border: none;\n",
              "      border-radius: 50%;\n",
              "      cursor: pointer;\n",
              "      display: none;\n",
              "      fill: #1967D2;\n",
              "      height: 32px;\n",
              "      padding: 0 0 0 0;\n",
              "      width: 32px;\n",
              "    }\n",
              "\n",
              "    .colab-df-convert:hover {\n",
              "      background-color: #E2EBFA;\n",
              "      box-shadow: 0px 1px 2px rgba(60, 64, 67, 0.3), 0px 1px 3px 1px rgba(60, 64, 67, 0.15);\n",
              "      fill: #174EA6;\n",
              "    }\n",
              "\n",
              "    [theme=dark] .colab-df-convert {\n",
              "      background-color: #3B4455;\n",
              "      fill: #D2E3FC;\n",
              "    }\n",
              "\n",
              "    [theme=dark] .colab-df-convert:hover {\n",
              "      background-color: #434B5C;\n",
              "      box-shadow: 0px 1px 3px 1px rgba(0, 0, 0, 0.15);\n",
              "      filter: drop-shadow(0px 1px 2px rgba(0, 0, 0, 0.3));\n",
              "      fill: #FFFFFF;\n",
              "    }\n",
              "  </style>\n",
              "\n",
              "      <script>\n",
              "        const buttonEl =\n",
              "          document.querySelector('#df-dbe5cf77-d812-47f0-a538-8cfd55ea152b button.colab-df-convert');\n",
              "        buttonEl.style.display =\n",
              "          google.colab.kernel.accessAllowed ? 'block' : 'none';\n",
              "\n",
              "        async function convertToInteractive(key) {\n",
              "          const element = document.querySelector('#df-dbe5cf77-d812-47f0-a538-8cfd55ea152b');\n",
              "          const dataTable =\n",
              "            await google.colab.kernel.invokeFunction('convertToInteractive',\n",
              "                                                     [key], {});\n",
              "          if (!dataTable) return;\n",
              "\n",
              "          const docLinkHtml = 'Like what you see? Visit the ' +\n",
              "            '<a target=\"_blank\" href=https://colab.research.google.com/notebooks/data_table.ipynb>data table notebook</a>'\n",
              "            + ' to learn more about interactive tables.';\n",
              "          element.innerHTML = '';\n",
              "          dataTable['output_type'] = 'display_data';\n",
              "          await google.colab.output.renderOutput(dataTable, element);\n",
              "          const docLink = document.createElement('div');\n",
              "          docLink.innerHTML = docLinkHtml;\n",
              "          element.appendChild(docLink);\n",
              "        }\n",
              "      </script>\n",
              "    </div>\n",
              "  </div>\n",
              "  "
            ],
            "text/plain": [
              "           Data       UPR   Fazenda  Talhão  ...  Finos  Umidade   CF % Comprimento\n",
              "1756 2019-10-01   Maringá     ticos       0  ...   9.78     3.92  77.17         NaN\n",
              "1802 2019-10-01  Tamanduá     ticos       0  ...  10.31     4.33  75.83         NaN\n",
              "1807 2019-10-01  Tamanduá     ticos       0  ...  10.31     4.33  75.83         NaN\n",
              "1811 2019-10-01  Tamanduá     ticos       0  ...  10.31     4.33  75.83         NaN\n",
              "1814 2019-10-01  Tamanduá     ticos       0  ...  10.31     4.33  75.83         NaN\n",
              "1818 2019-10-01  Tamanduá     ticos       0  ...  10.31     4.33  75.83         NaN\n",
              "1821 2019-10-01  Tamanduá     ticos       0  ...  10.31     4.33  75.83         NaN\n",
              "1831 2019-10-01  Tamanduá     ticos       0  ...  10.31     4.33  75.83         NaN\n",
              "1837 2019-10-01  Tamanduá     ticos       0  ...  10.31     4.33  75.83         NaN\n",
              "1841 2019-10-01  Tamanduá     ticos       0  ...  10.31     4.33  75.83         NaN\n",
              "1843 2019-10-01  Tamanduá     ticos       0  ...  10.31     4.33  75.83         NaN\n",
              "1858 2019-10-01  Tamanduá     ticos       0  ...  10.31     4.33  75.83         NaN\n",
              "1866 2019-10-01  Tamanduá     ticos       0  ...  10.31     4.33  75.83         NaN\n",
              "1937 2019-11-01   Maringá     ticos       0  ...  10.10     5.25  79.86         NaN\n",
              "2077 2019-12-01   Maringá      alba       0  ...  10.33     5.48  78.04         NaN\n",
              "2228 2020-01-01  Tamanduá     ticos       0  ...  11.56     6.55  77.30         NaN\n",
              "2232 2020-01-01  Tamanduá     ticos       0  ...  11.56     6.55  77.30         NaN\n",
              "2237 2020-01-01  Tamanduá     ticos       0  ...  11.56     6.55  77.30         NaN\n",
              "2242 2020-01-01  Tamanduá     ticos       0  ...  11.56     6.55  77.30         NaN\n",
              "2251 2020-01-01  Tamanduá     ticos       0  ...  11.56     6.55  77.30         NaN\n",
              "2458 2020-03-01   Maringá     ticos       0  ...  10.51     5.99  76.62         NaN\n",
              "2461 2020-03-01   Maringá     ticos       0  ...  10.51     5.99  76.62         NaN\n",
              "2695 2020-05-01   Maringá     ticos       0  ...  10.24     3.20  74.17         NaN\n",
              "2837 2020-06-01   Maringá     ticos       0  ...  10.36     4.79  76.33         NaN\n",
              "2838 2020-06-01   Maringá     ticos       0  ...  10.36     4.79  76.33         NaN\n",
              "2858 2020-06-01   Maringá     ticos       0  ...  10.36     4.79  76.33         NaN\n",
              "3016 2020-07-01  Tamanduá     fecho       0  ...  10.84     4.76  74.23         NaN\n",
              "3022 2020-07-01  Tamanduá     fecho       0  ...  10.84     4.76  74.23         NaN\n",
              "3045 2020-07-01  Tamanduá     fecho       0  ...  10.84     4.76  74.23         NaN\n",
              "3155 2020-08-01  Tamanduá  tamandua       0  ...  10.52     5.44  75.07         NaN\n",
              "\n",
              "[30 rows x 16 columns]"
            ]
          },
          "metadata": {},
          "execution_count": 21
        }
      ]
    },
    {
      "cell_type": "markdown",
      "source": [
        "Com base nessas informações podemos especular uma proporcionalidade de madeira para tiço, vamos fazer uma seleção dos dados com base nos dados estatisticos da nossa amostra pegando valores entre 38.59 a 41.32 (intervalo no qual temos 50% dos dados da nossa amostra), foi optado por não usar a média e o desvio padrão por conta de uma entrada de 115.67, não que seja um outlier declarado pois a quantidade de tiço gerado está aparentemente seguindo uma proporção."
      ],
      "metadata": {
        "id": "v8w0NWNw0zck"
      }
    },
    {
      "cell_type": "code",
      "source": [
        "madeira_ausentes = dados.query('Madeira == \" -   \"')['Tiço Enfornado'].astype(float)\n",
        "madeira_intervalo_inf = madeira_ausentes.quantile(.25)\n",
        "madeira_intervalo_sup = madeira_ausentes.quantile(.75)\n",
        "\n",
        "def mostrar_metricas_hist(dados,titulo):\n",
        "  print(f'Tamanho da seleção: {len(dados)}\\n')\n",
        "  print(f\"Medidas de posição e dispersão:\\n{dados.describe()}\\n\\nHistograma {titulo}\")\n",
        "  dados.hist(color = '#ED1C24',figsize=(6,6));\n",
        "\n",
        "mostrar_metricas_hist(madeira_ausentes,'Tiço Enfornado')"
      ],
      "metadata": {
        "id": "ayftK6rnykLc",
        "colab": {
          "base_uri": "https://localhost:8080/",
          "height": 618
        },
        "outputId": "5aa4e408-75d7-4ee3-9f00-e6505a4d3c73"
      },
      "execution_count": 22,
      "outputs": [
        {
          "output_type": "stream",
          "name": "stdout",
          "text": [
            "Tamanho da seleção: 30\n",
            "\n",
            "Medidas de posição e dispersão:\n",
            "count     30.000000\n",
            "mean      48.029000\n",
            "std       19.276925\n",
            "min       36.980000\n",
            "25%       38.587500\n",
            "50%       39.020000\n",
            "75%       41.315000\n",
            "max      115.670000\n",
            "Name: Tiço Enfornado, dtype: float64\n",
            "\n",
            "Histograma Tiço Enfornado\n"
          ]
        },
        {
          "output_type": "display_data",
          "data": {
            "image/png": "[encoded data removed]",
            "text/plain": [
              "<Figure size 432x432 with 1 Axes>"
            ]
          },
          "metadata": {
            "needs_background": "light"
          }
        }
      ]
    },
    {
      "cell_type": "markdown",
      "source": [
        "Iniciamos fazendo uma seleção da base de dados em que a variável Tiço enfornado esteja entre 38.59 a 41.32, dessa forma temos as medidas estatísticas e o histograma da seleção, podemos notar de que a distribuição segue uma normal deslocada a esquerda, dado isso e o espaço amostral ser pequeno vamos optar por utilizar a mediana no valor de 231.54 para substituição."
      ],
      "metadata": {
        "id": "YRks6Pzt6Q1e"
      }
    },
    {
      "cell_type": "code",
      "source": [
        "selecao_madeira = dados.query('`Tiço Enfornado` != \" -   \"')\n",
        "selecao_madeira_filtrada = selecao_madeira.query('`Tiço Enfornado` >= @madeira_intervalo_inf & `Tiço Enfornado` <= @madeira_intervalo_sup & Madeira != \" -   \"').copy()\n",
        "selecao_madeira_filtrada['Madeira'] = selecao_madeira_filtrada['Madeira'].astype(float)\n",
        "# print(f'Tamanho da seleção: {len(selecao_madeira_filtrada[\"Madeira\"])}\\n')\n",
        "# print(f\"Medidas de posição e dispersão:\\n{selecao_madeira_filtrada['Madeira'].describe()}\\n\\nHistograma Madeira\")\n",
        "# selecao_madeira_filtrada['Madeira'].hist(color = '#ED1C24',figsize=(6,6));\n",
        "mostrar_metricas_hist(selecao_madeira_filtrada[\"Madeira\"],'Madeira')"
      ],
      "metadata": {
        "id": "HZzTw8Je2LbV",
        "colab": {
          "base_uri": "https://localhost:8080/",
          "height": 617
        },
        "outputId": "958500c6-2067-4d09-aae8-eaf4225c0e54"
      },
      "execution_count": 23,
      "outputs": [
        {
          "output_type": "stream",
          "name": "stdout",
          "text": [
            "Tamanho da seleção: 46\n",
            "\n",
            "Medidas de posição e dispersão:\n",
            "count     46.000000\n",
            "mean     267.877826\n",
            "std       82.995900\n",
            "min      142.380000\n",
            "25%      193.880000\n",
            "50%      231.535000\n",
            "75%      333.137500\n",
            "max      507.910000\n",
            "Name: Madeira, dtype: float64\n",
            "\n",
            "Histograma Madeira\n"
          ]
        },
        {
          "output_type": "display_data",
          "data": {
            "image/png": "[encoded data removed]",
            "text/plain": [
              "<Figure size 432x432 with 1 Axes>"
            ]
          },
          "metadata": {
            "needs_background": "light"
          }
        }
      ]
    },
    {
      "cell_type": "markdown",
      "source": [
        "Concluimos o tratamento dessa variável, ficando dessa maneira."
      ],
      "metadata": {
        "id": "gnchXQQxEXJR"
      }
    },
    {
      "cell_type": "code",
      "source": [
        "dados['Madeira'] = [selecao_madeira_filtrada['Madeira'].median() if entrada in dados.query('Madeira == \" -   \"').index else dados['Madeira'].iloc[entrada] for entrada in range(len(dados['Madeira']))]\n",
        "mostrar_metricas_hist(dados['Madeira'],'Madeira pós tratamento')"
      ],
      "metadata": {
        "id": "Ppqbkg9QE4Da",
        "colab": {
          "base_uri": "https://localhost:8080/",
          "height": 617
        },
        "outputId": "29406e4f-d45a-4ef7-828c-83d9de676b63"
      },
      "execution_count": 24,
      "outputs": [
        {
          "output_type": "stream",
          "name": "stdout",
          "text": [
            "Tamanho da seleção: 3731\n",
            "\n",
            "Medidas de posição e dispersão:\n",
            "count    3731.000000\n",
            "mean      185.772150\n",
            "std       140.870987\n",
            "min         2.000000\n",
            "25%        82.530000\n",
            "50%       156.930000\n",
            "75%       225.190000\n",
            "max      1077.070000\n",
            "Name: Madeira, dtype: float64\n",
            "\n",
            "Histograma Madeira pós tratamento\n"
          ]
        },
        {
          "output_type": "display_data",
          "data": {
            "image/png": "[encoded data removed]",
            "text/plain": [
              "<Figure size 432x432 with 1 Axes>"
            ]
          },
          "metadata": {
            "needs_background": "light"
          }
        }
      ]
    },
    {
      "cell_type": "markdown",
      "source": [
        "## Variável Tiço Enfornado\n",
        "\n",
        "Nesta variável temos um caso semelhante ao anterior,vamos trabalhar com as mesmas considerações dado o entendimento do negócio."
      ],
      "metadata": {
        "id": "OWOz1h-6GU_K"
      }
    },
    {
      "cell_type": "code",
      "source": [
        "dados.query('`Tiço Enfornado` == \" -   \"')"
      ],
      "metadata": {
        "id": "k2QHz5IjGiwj",
        "colab": {
          "base_uri": "https://localhost:8080/",
          "height": 424
        },
        "outputId": "b0b1097e-6079-4027-d4b4-9900ff94321c"
      },
      "execution_count": 25,
      "outputs": [
        {
          "output_type": "execute_result",
          "data": {
            "text/html": [
              "\n",
              "  <div id=\"df-ca82784e-fcae-4e85-937d-08a46ca42fa9\">\n",
              "    <div class=\"colab-df-container\">\n",
              "      <div>\n",
              "<style scoped>\n",
              "    .dataframe tbody tr th:only-of-type {\n",
              "        vertical-align: middle;\n",
              "    }\n",
              "\n",
              "    .dataframe tbody tr th {\n",
              "        vertical-align: top;\n",
              "    }\n",
              "\n",
              "    .dataframe thead th {\n",
              "        text-align: right;\n",
              "    }\n",
              "</style>\n",
              "<table border=\"1\" class=\"dataframe\">\n",
              "  <thead>\n",
              "    <tr style=\"text-align: right;\">\n",
              "      <th></th>\n",
              "      <th>Data</th>\n",
              "      <th>UPR</th>\n",
              "      <th>Fazenda</th>\n",
              "      <th>Talhão</th>\n",
              "      <th>Espécie</th>\n",
              "      <th>Idade</th>\n",
              "      <th>Dias Secagem</th>\n",
              "      <th>Madeira</th>\n",
              "      <th>Tiço Enfornado</th>\n",
              "      <th>Tiço Gerado</th>\n",
              "      <th>Produção</th>\n",
              "      <th>Densidade</th>\n",
              "      <th>Finos</th>\n",
              "      <th>Umidade</th>\n",
              "      <th>CF %</th>\n",
              "      <th>Comprimento</th>\n",
              "    </tr>\n",
              "  </thead>\n",
              "  <tbody>\n",
              "    <tr>\n",
              "      <th>37</th>\n",
              "      <td>2019-01-01</td>\n",
              "      <td>Tamanduá</td>\n",
              "      <td>tamandua</td>\n",
              "      <td>43</td>\n",
              "      <td>clone saligna 2864</td>\n",
              "      <td>8.64</td>\n",
              "      <td>229.0</td>\n",
              "      <td>34.54</td>\n",
              "      <td>-</td>\n",
              "      <td>4</td>\n",
              "      <td>4.84</td>\n",
              "      <td>265.77</td>\n",
              "      <td>12.49</td>\n",
              "      <td>6.08</td>\n",
              "      <td>75.47</td>\n",
              "      <td>NaN</td>\n",
              "    </tr>\n",
              "    <tr>\n",
              "      <th>169</th>\n",
              "      <td>2019-02-01</td>\n",
              "      <td>Maringá Retangular</td>\n",
              "      <td>maringa ii</td>\n",
              "      <td>0</td>\n",
              "      <td>semente</td>\n",
              "      <td>11.91</td>\n",
              "      <td>154.0</td>\n",
              "      <td>79.50</td>\n",
              "      <td>-</td>\n",
              "      <td>2.5</td>\n",
              "      <td>7.88</td>\n",
              "      <td>272.59</td>\n",
              "      <td>11.03</td>\n",
              "      <td>6.97</td>\n",
              "      <td>81.52</td>\n",
              "      <td>NaN</td>\n",
              "    </tr>\n",
              "    <tr>\n",
              "      <th>171</th>\n",
              "      <td>2019-02-01</td>\n",
              "      <td>Maringá Retangular</td>\n",
              "      <td>maringa ii</td>\n",
              "      <td>0</td>\n",
              "      <td>semente</td>\n",
              "      <td>11.91</td>\n",
              "      <td>162.0</td>\n",
              "      <td>109.53</td>\n",
              "      <td>-</td>\n",
              "      <td>1.5</td>\n",
              "      <td>12.09</td>\n",
              "      <td>272.59</td>\n",
              "      <td>11.03</td>\n",
              "      <td>6.97</td>\n",
              "      <td>81.52</td>\n",
              "      <td>NaN</td>\n",
              "    </tr>\n",
              "    <tr>\n",
              "      <th>173</th>\n",
              "      <td>2019-02-01</td>\n",
              "      <td>Maringá Retangular</td>\n",
              "      <td>maringa ii</td>\n",
              "      <td>0</td>\n",
              "      <td>semente</td>\n",
              "      <td>11.91</td>\n",
              "      <td>170.0</td>\n",
              "      <td>70.33</td>\n",
              "      <td>-</td>\n",
              "      <td>1.5</td>\n",
              "      <td>7.44</td>\n",
              "      <td>272.59</td>\n",
              "      <td>11.03</td>\n",
              "      <td>6.97</td>\n",
              "      <td>81.52</td>\n",
              "      <td>NaN</td>\n",
              "    </tr>\n",
              "    <tr>\n",
              "      <th>310</th>\n",
              "      <td>2019-03-01</td>\n",
              "      <td>Maringá</td>\n",
              "      <td>ticos</td>\n",
              "      <td>0</td>\n",
              "      <td>diversos</td>\n",
              "      <td>8.02</td>\n",
              "      <td>122.0</td>\n",
              "      <td>41.00</td>\n",
              "      <td>-</td>\n",
              "      <td>2.5</td>\n",
              "      <td>5.49</td>\n",
              "      <td>249.38</td>\n",
              "      <td>11.37</td>\n",
              "      <td>4.42</td>\n",
              "      <td>77.92</td>\n",
              "      <td>NaN</td>\n",
              "    </tr>\n",
              "    <tr>\n",
              "      <th>...</th>\n",
              "      <td>...</td>\n",
              "      <td>...</td>\n",
              "      <td>...</td>\n",
              "      <td>...</td>\n",
              "      <td>...</td>\n",
              "      <td>...</td>\n",
              "      <td>...</td>\n",
              "      <td>...</td>\n",
              "      <td>...</td>\n",
              "      <td>...</td>\n",
              "      <td>...</td>\n",
              "      <td>...</td>\n",
              "      <td>...</td>\n",
              "      <td>...</td>\n",
              "      <td>...</td>\n",
              "      <td>...</td>\n",
              "    </tr>\n",
              "    <tr>\n",
              "      <th>3381</th>\n",
              "      <td>2020-10-01</td>\n",
              "      <td>Maringá Retangular</td>\n",
              "      <td>alba</td>\n",
              "      <td>27</td>\n",
              "      <td>clone urograndis 2361</td>\n",
              "      <td>7.82</td>\n",
              "      <td>343.0</td>\n",
              "      <td>108.50</td>\n",
              "      <td>-</td>\n",
              "      <td>9.32</td>\n",
              "      <td>12.34</td>\n",
              "      <td>242.05</td>\n",
              "      <td>10.88</td>\n",
              "      <td>4.06</td>\n",
              "      <td>82.41</td>\n",
              "      <td>5</td>\n",
              "    </tr>\n",
              "    <tr>\n",
              "      <th>3387</th>\n",
              "      <td>2020-10-01</td>\n",
              "      <td>Maringá Retangular</td>\n",
              "      <td>alba</td>\n",
              "      <td>27</td>\n",
              "      <td>clone urograndis 2361</td>\n",
              "      <td>7.82</td>\n",
              "      <td>351.0</td>\n",
              "      <td>122.11</td>\n",
              "      <td>-</td>\n",
              "      <td>7.38</td>\n",
              "      <td>12.53</td>\n",
              "      <td>242.05</td>\n",
              "      <td>10.88</td>\n",
              "      <td>4.06</td>\n",
              "      <td>82.41</td>\n",
              "      <td>3.3</td>\n",
              "    </tr>\n",
              "    <tr>\n",
              "      <th>3406</th>\n",
              "      <td>2020-10-01</td>\n",
              "      <td>Tamanduá</td>\n",
              "      <td>fecho</td>\n",
              "      <td>71</td>\n",
              "      <td>clone saligna 2864</td>\n",
              "      <td>7.88</td>\n",
              "      <td>313.0</td>\n",
              "      <td>38.76</td>\n",
              "      <td>-</td>\n",
              "      <td>4.95</td>\n",
              "      <td>4.16</td>\n",
              "      <td>244.52</td>\n",
              "      <td>10.67</td>\n",
              "      <td>5.20</td>\n",
              "      <td>75.95</td>\n",
              "      <td>NaN</td>\n",
              "    </tr>\n",
              "    <tr>\n",
              "      <th>3526</th>\n",
              "      <td>2020-11-01</td>\n",
              "      <td>Maringá Retangular</td>\n",
              "      <td>alba</td>\n",
              "      <td>27</td>\n",
              "      <td>clone urograndis 2361</td>\n",
              "      <td>7.82</td>\n",
              "      <td>363.0</td>\n",
              "      <td>89.54</td>\n",
              "      <td>-</td>\n",
              "      <td>6.97</td>\n",
              "      <td>11.66</td>\n",
              "      <td>246.22</td>\n",
              "      <td>9.80</td>\n",
              "      <td>4.03</td>\n",
              "      <td>79.24</td>\n",
              "      <td>5.5</td>\n",
              "    </tr>\n",
              "    <tr>\n",
              "      <th>3641</th>\n",
              "      <td>2020-11-01</td>\n",
              "      <td>Maringá Retangular</td>\n",
              "      <td>alba</td>\n",
              "      <td>27</td>\n",
              "      <td>clone urograndis 2361</td>\n",
              "      <td>7.82</td>\n",
              "      <td>363.0</td>\n",
              "      <td>89.54</td>\n",
              "      <td>-</td>\n",
              "      <td>6.97</td>\n",
              "      <td>11.66</td>\n",
              "      <td>NaN</td>\n",
              "      <td>NaN</td>\n",
              "      <td>NaN</td>\n",
              "      <td>81.58</td>\n",
              "      <td>5.5</td>\n",
              "    </tr>\n",
              "  </tbody>\n",
              "</table>\n",
              "<p>73 rows × 16 columns</p>\n",
              "</div>\n",
              "      <button class=\"colab-df-convert\" onclick=\"convertToInteractive('df-ca82784e-fcae-4e85-937d-08a46ca42fa9')\"\n",
              "              title=\"Convert this dataframe to an interactive table.\"\n",
              "              style=\"display:none;\">\n",
              "        \n",
              "  <svg xmlns=\"http://www.w3.org/2000/svg\" height=\"24px\"viewBox=\"0 0 24 24\"\n",
              "       width=\"24px\">\n",
              "    <path d=\"M0 0h24v24H0V0z\" fill=\"none\"/>\n",
              "    <path d=\"M18.56 5.44l.94 2.06.94-2.06 2.06-.94-2.06-.94-.94-2.06-.94 2.06-2.06.94zm-11 1L8.5 8.5l.94-2.06 2.06-.94-2.06-.94L8.5 2.5l-.94 2.06-2.06.94zm10 10l.94 2.06.94-2.06 2.06-.94-2.06-.94-.94-2.06-.94 2.06-2.06.94z\"/><path d=\"M17.41 7.96l-1.37-1.37c-.4-.4-.92-.59-1.43-.59-.52 0-1.04.2-1.43.59L10.3 9.45l-7.72 7.72c-.78.78-.78 2.05 0 2.83L4 21.41c.39.39.9.59 1.41.59.51 0 1.02-.2 1.41-.59l7.78-7.78 2.81-2.81c.8-.78.8-2.07 0-2.86zM5.41 20L4 18.59l7.72-7.72 1.47 1.35L5.41 20z\"/>\n",
              "  </svg>\n",
              "      </button>\n",
              "      \n",
              "  <style>\n",
              "    .colab-df-container {\n",
              "      display:flex;\n",
              "      flex-wrap:wrap;\n",
              "      gap: 12px;\n",
              "    }\n",
              "\n",
              "    .colab-df-convert {\n",
              "      background-color: #E8F0FE;\n",
              "      border: none;\n",
              "      border-radius: 50%;\n",
              "      cursor: pointer;\n",
              "      display: none;\n",
              "      fill: #1967D2;\n",
              "      height: 32px;\n",
              "      padding: 0 0 0 0;\n",
              "      width: 32px;\n",
              "    }\n",
              "\n",
              "    .colab-df-convert:hover {\n",
              "      background-color: #E2EBFA;\n",
              "      box-shadow: 0px 1px 2px rgba(60, 64, 67, 0.3), 0px 1px 3px 1px rgba(60, 64, 67, 0.15);\n",
              "      fill: #174EA6;\n",
              "    }\n",
              "\n",
              "    [theme=dark] .colab-df-convert {\n",
              "      background-color: #3B4455;\n",
              "      fill: #D2E3FC;\n",
              "    }\n",
              "\n",
              "    [theme=dark] .colab-df-convert:hover {\n",
              "      background-color: #434B5C;\n",
              "      box-shadow: 0px 1px 3px 1px rgba(0, 0, 0, 0.15);\n",
              "      filter: drop-shadow(0px 1px 2px rgba(0, 0, 0, 0.3));\n",
              "      fill: #FFFFFF;\n",
              "    }\n",
              "  </style>\n",
              "\n",
              "      <script>\n",
              "        const buttonEl =\n",
              "          document.querySelector('#df-ca82784e-fcae-4e85-937d-08a46ca42fa9 button.colab-df-convert');\n",
              "        buttonEl.style.display =\n",
              "          google.colab.kernel.accessAllowed ? 'block' : 'none';\n",
              "\n",
              "        async function convertToInteractive(key) {\n",
              "          const element = document.querySelector('#df-ca82784e-fcae-4e85-937d-08a46ca42fa9');\n",
              "          const dataTable =\n",
              "            await google.colab.kernel.invokeFunction('convertToInteractive',\n",
              "                                                     [key], {});\n",
              "          if (!dataTable) return;\n",
              "\n",
              "          const docLinkHtml = 'Like what you see? Visit the ' +\n",
              "            '<a target=\"_blank\" href=https://colab.research.google.com/notebooks/data_table.ipynb>data table notebook</a>'\n",
              "            + ' to learn more about interactive tables.';\n",
              "          element.innerHTML = '';\n",
              "          dataTable['output_type'] = 'display_data';\n",
              "          await google.colab.output.renderOutput(dataTable, element);\n",
              "          const docLink = document.createElement('div');\n",
              "          docLink.innerHTML = docLinkHtml;\n",
              "          element.appendChild(docLink);\n",
              "        }\n",
              "      </script>\n",
              "    </div>\n",
              "  </div>\n",
              "  "
            ],
            "text/plain": [
              "           Data                 UPR     Fazenda  ...  Umidade   CF %  Comprimento\n",
              "37   2019-01-01            Tamanduá    tamandua  ...     6.08  75.47          NaN\n",
              "169  2019-02-01  Maringá Retangular  maringa ii  ...     6.97  81.52          NaN\n",
              "171  2019-02-01  Maringá Retangular  maringa ii  ...     6.97  81.52          NaN\n",
              "173  2019-02-01  Maringá Retangular  maringa ii  ...     6.97  81.52          NaN\n",
              "310  2019-03-01             Maringá       ticos  ...     4.42  77.92          NaN\n",
              "...         ...                 ...         ...  ...      ...    ...          ...\n",
              "3381 2020-10-01  Maringá Retangular        alba  ...     4.06  82.41            5\n",
              "3387 2020-10-01  Maringá Retangular        alba  ...     4.06  82.41          3.3\n",
              "3406 2020-10-01            Tamanduá       fecho  ...     5.20  75.95          NaN\n",
              "3526 2020-11-01  Maringá Retangular        alba  ...     4.03  79.24          5.5\n",
              "3641 2020-11-01  Maringá Retangular        alba  ...      NaN  81.58          5.5\n",
              "\n",
              "[73 rows x 16 columns]"
            ]
          },
          "metadata": {},
          "execution_count": 25
        }
      ]
    },
    {
      "cell_type": "markdown",
      "source": [
        "Ao avaliar o comportamento da madeira para a preenchimento dos dados de tiço notamos 2 concentrações de dados, para avaliar o valor de tiço enfornado de maneira mais precisa vamos fazer um segmentação em 85 e avaliar cada parte separada."
      ],
      "metadata": {
        "id": "X4ZEUVJ8KkIr"
      }
    },
    {
      "cell_type": "code",
      "source": [
        "tico_enf_lim_inf = dados.query('`Tiço Enfornado` == \" -   \"')['Madeira'].quantile(.25)\n",
        "tico_enf_lim_sup = dados.query('`Tiço Enfornado` == \" -   \"')['Madeira'].quantile(.75)\n",
        "selecao_madeira = dados.query('Madeira >= @tico_enf_lim_inf & Madeira <= @tico_enf_lim_sup')\n",
        "selecao_madeira = selecao_madeira.query('`Tiço Enfornado` != \" -   \"').copy()\n",
        "selecao_madeira['Tiço Enfornado'] = selecao_madeira['Tiço Enfornado'].astype(float)\n",
        "mostrar_metricas_hist(selecao_madeira['Madeira'], 'Madeira da seleção')"
      ],
      "metadata": {
        "id": "RIEAqVL4AF3b",
        "colab": {
          "base_uri": "https://localhost:8080/",
          "height": 617
        },
        "outputId": "273a188f-48e5-4b55-b766-4996c62e44fa"
      },
      "execution_count": 26,
      "outputs": [
        {
          "output_type": "stream",
          "name": "stdout",
          "text": [
            "Tamanho da seleção: 921\n",
            "\n",
            "Medidas de posição e dispersão:\n",
            "count    921.000000\n",
            "mean      84.600369\n",
            "std       19.012625\n",
            "min       39.210000\n",
            "25%       68.530000\n",
            "50%       81.430000\n",
            "75%      103.000000\n",
            "max      115.000000\n",
            "Name: Madeira, dtype: float64\n",
            "\n",
            "Histograma Madeira da seleção\n"
          ]
        },
        {
          "output_type": "display_data",
          "data": {
            "image/png": "[encoded data removed]",
            "text/plain": [
              "<Figure size 432x432 with 1 Axes>"
            ]
          },
          "metadata": {
            "needs_background": "light"
          }
        }
      ]
    },
    {
      "cell_type": "markdown",
      "source": [
        "Notamos que o valor médio de tiço enfornado para quando Madeira está abaixo de 85 está 7.59 e quando está acima de 85 temos 11.75, vamos seguir com esses valores para substituição"
      ],
      "metadata": {
        "id": "jd1KFngbK8Ak"
      }
    },
    {
      "cell_type": "code",
      "source": [
        "print(f\"\"\"Avaliando Tiço enfornado para Madedeira < 85\\n{selecao_madeira.query('Madeira < 85')['Tiço Enfornado'].describe()}\\n\\n\n",
        "Avaliando Tiço enfornado para Madedeira >= 85\\n{selecao_madeira.query('Madeira >= 85')['Tiço Enfornado'].describe()}\"\"\")"
      ],
      "metadata": {
        "id": "7t9tmtM4JGuL",
        "colab": {
          "base_uri": "https://localhost:8080/"
        },
        "outputId": "afb217fb-9781-4a79-a225-9ac3107eac39"
      },
      "execution_count": 27,
      "outputs": [
        {
          "output_type": "stream",
          "name": "stdout",
          "text": [
            "Avaliando Tiço enfornado para Madedeira < 85\n",
            "count    473.000000\n",
            "mean       7.588710\n",
            "std        3.374759\n",
            "min        0.400000\n",
            "25%        5.870000\n",
            "50%        7.560000\n",
            "75%        9.080000\n",
            "max       20.500000\n",
            "Name: Tiço Enfornado, dtype: float64\n",
            "\n",
            "\n",
            "Avaliando Tiço enfornado para Madedeira >= 85\n",
            "count    448.000000\n",
            "mean      11.753973\n",
            "std        4.861053\n",
            "min        0.800000\n",
            "25%        8.900000\n",
            "50%       11.515000\n",
            "75%       14.505000\n",
            "max       26.400000\n",
            "Name: Tiço Enfornado, dtype: float64\n"
          ]
        }
      ]
    },
    {
      "cell_type": "markdown",
      "source": [
        "Realizando a subsituição dada a condição vista acima."
      ],
      "metadata": {
        "id": "-bJ3SXV9Noq1"
      }
    },
    {
      "cell_type": "code",
      "source": [
        "lista_tico_enfornado = []\n",
        "for entrada in range(dados.shape[0]):\n",
        "  if entrada in dados.query('`Tiço Enfornado` == \" -   \"').index:\n",
        "    if dados['Madeira'].iloc[entrada] < 85:\n",
        "      lista_tico_enfornado.append(selecao_madeira.query('Madeira < 85')['Tiço Enfornado'].mean())\n",
        "    else:\n",
        "      lista_tico_enfornado.append(selecao_madeira.query('Madeira >= 85')['Tiço Enfornado'].mean())\n",
        "  else:\n",
        "    lista_tico_enfornado.append(dados['Tiço Enfornado'].iloc[entrada])\n",
        "dados['Tiço Enfornado'] = lista_tico_enfornado"
      ],
      "metadata": {
        "id": "hygCP_XBLNjZ"
      },
      "execution_count": 28,
      "outputs": []
    },
    {
      "cell_type": "markdown",
      "source": [
        "Com isso concluimos o tratamento dos tiços enfornados, temos aqui as medidas de posição e dispersão desses dados"
      ],
      "metadata": {
        "id": "u_Lf40MdNygt"
      }
    },
    {
      "cell_type": "code",
      "source": [
        "dados['Tiço Enfornado'].describe()"
      ],
      "metadata": {
        "id": "sNXObL0bNjb1",
        "colab": {
          "base_uri": "https://localhost:8080/"
        },
        "outputId": "2247e542-49d3-42bb-bc0d-78b4a401d673"
      },
      "execution_count": 29,
      "outputs": [
        {
          "output_type": "execute_result",
          "data": {
            "text/plain": [
              "count    3731.000000\n",
              "mean       25.723119\n",
              "std        24.629469\n",
              "min         0.250000\n",
              "25%         8.705000\n",
              "50%        17.820000\n",
              "75%        31.555000\n",
              "max       165.430000\n",
              "Name: Tiço Enfornado, dtype: float64"
            ]
          },
          "metadata": {},
          "execution_count": 29
        }
      ]
    },
    {
      "cell_type": "markdown",
      "source": [
        "## Variável Tiço Gerado\n",
        "\n",
        "Aqui encontramos mais um caso como os anteriores, considerando que o tiço gerado é proveniente somente da madeira, podemos trabalhar com um percentural de tiço gerado para realizarmos o preenchimento."
      ],
      "metadata": {
        "id": "CSeK5vxeQ2um"
      }
    },
    {
      "cell_type": "code",
      "source": [
        "dados.query('`Tiço Gerado` == \" -   \"')"
      ],
      "metadata": {
        "id": "08J3LEWRQ2gu",
        "colab": {
          "base_uri": "https://localhost:8080/",
          "height": 677
        },
        "outputId": "8d839621-60a7-41d9-bd93-2f8b2f84a392"
      },
      "execution_count": 30,
      "outputs": [
        {
          "output_type": "execute_result",
          "data": {
            "text/html": [
              "\n",
              "  <div id=\"df-34b24631-d71d-42a0-b553-2033bde87942\">\n",
              "    <div class=\"colab-df-container\">\n",
              "      <div>\n",
              "<style scoped>\n",
              "    .dataframe tbody tr th:only-of-type {\n",
              "        vertical-align: middle;\n",
              "    }\n",
              "\n",
              "    .dataframe tbody tr th {\n",
              "        vertical-align: top;\n",
              "    }\n",
              "\n",
              "    .dataframe thead th {\n",
              "        text-align: right;\n",
              "    }\n",
              "</style>\n",
              "<table border=\"1\" class=\"dataframe\">\n",
              "  <thead>\n",
              "    <tr style=\"text-align: right;\">\n",
              "      <th></th>\n",
              "      <th>Data</th>\n",
              "      <th>UPR</th>\n",
              "      <th>Fazenda</th>\n",
              "      <th>Talhão</th>\n",
              "      <th>Espécie</th>\n",
              "      <th>Idade</th>\n",
              "      <th>Dias Secagem</th>\n",
              "      <th>Madeira</th>\n",
              "      <th>Tiço Enfornado</th>\n",
              "      <th>Tiço Gerado</th>\n",
              "      <th>Produção</th>\n",
              "      <th>Densidade</th>\n",
              "      <th>Finos</th>\n",
              "      <th>Umidade</th>\n",
              "      <th>CF %</th>\n",
              "      <th>Comprimento</th>\n",
              "    </tr>\n",
              "  </thead>\n",
              "  <tbody>\n",
              "    <tr>\n",
              "      <th>170</th>\n",
              "      <td>2019-02-01</td>\n",
              "      <td>Maringá Retangular</td>\n",
              "      <td>maringa ii</td>\n",
              "      <td>0</td>\n",
              "      <td>semente</td>\n",
              "      <td>11.91</td>\n",
              "      <td>160.0</td>\n",
              "      <td>68.830</td>\n",
              "      <td>3.000000</td>\n",
              "      <td>-</td>\n",
              "      <td>8.18</td>\n",
              "      <td>272.59</td>\n",
              "      <td>11.03</td>\n",
              "      <td>6.97</td>\n",
              "      <td>81.52</td>\n",
              "      <td>NaN</td>\n",
              "    </tr>\n",
              "    <tr>\n",
              "      <th>500</th>\n",
              "      <td>2019-04-01</td>\n",
              "      <td>Maringá Retangular</td>\n",
              "      <td>maringa ii</td>\n",
              "      <td>0</td>\n",
              "      <td>semente</td>\n",
              "      <td>11.13</td>\n",
              "      <td>290.0</td>\n",
              "      <td>63.000</td>\n",
              "      <td>1.500000</td>\n",
              "      <td>-</td>\n",
              "      <td>8.16</td>\n",
              "      <td>225.29</td>\n",
              "      <td>10.63</td>\n",
              "      <td>3.08</td>\n",
              "      <td>80.22</td>\n",
              "      <td>NaN</td>\n",
              "    </tr>\n",
              "    <tr>\n",
              "      <th>682</th>\n",
              "      <td>2019-05-01</td>\n",
              "      <td>Maringá Retangular</td>\n",
              "      <td>maringa ii</td>\n",
              "      <td>45</td>\n",
              "      <td>semente</td>\n",
              "      <td>10.39</td>\n",
              "      <td>401.0</td>\n",
              "      <td>65.350</td>\n",
              "      <td>2.000000</td>\n",
              "      <td>-</td>\n",
              "      <td>7.36</td>\n",
              "      <td>266.64</td>\n",
              "      <td>11.21</td>\n",
              "      <td>7.47</td>\n",
              "      <td>85.37</td>\n",
              "      <td>NaN</td>\n",
              "    </tr>\n",
              "    <tr>\n",
              "      <th>685</th>\n",
              "      <td>2019-05-01</td>\n",
              "      <td>Maringá Retangular</td>\n",
              "      <td>maringa ii</td>\n",
              "      <td>0</td>\n",
              "      <td>semente</td>\n",
              "      <td>12.07</td>\n",
              "      <td>194.0</td>\n",
              "      <td>68.910</td>\n",
              "      <td>7.588710</td>\n",
              "      <td>-</td>\n",
              "      <td>8.62</td>\n",
              "      <td>266.64</td>\n",
              "      <td>11.21</td>\n",
              "      <td>7.47</td>\n",
              "      <td>85.37</td>\n",
              "      <td>NaN</td>\n",
              "    </tr>\n",
              "    <tr>\n",
              "      <th>1481</th>\n",
              "      <td>2019-08-01</td>\n",
              "      <td>Butiá</td>\n",
              "      <td>butia</td>\n",
              "      <td>73</td>\n",
              "      <td>clone urograndis 2361</td>\n",
              "      <td>7.29</td>\n",
              "      <td>344.0</td>\n",
              "      <td>34.600</td>\n",
              "      <td>7.588710</td>\n",
              "      <td>-</td>\n",
              "      <td>2.75</td>\n",
              "      <td>238.91</td>\n",
              "      <td>9.69</td>\n",
              "      <td>4.87</td>\n",
              "      <td>77.48</td>\n",
              "      <td>NaN</td>\n",
              "    </tr>\n",
              "    <tr>\n",
              "      <th>1483</th>\n",
              "      <td>2019-08-01</td>\n",
              "      <td>Butiá</td>\n",
              "      <td>butia</td>\n",
              "      <td>73</td>\n",
              "      <td>clone urograndis 2361</td>\n",
              "      <td>7.29</td>\n",
              "      <td>345.0</td>\n",
              "      <td>36.870</td>\n",
              "      <td>7.588710</td>\n",
              "      <td>-</td>\n",
              "      <td>2.47</td>\n",
              "      <td>238.91</td>\n",
              "      <td>9.69</td>\n",
              "      <td>4.87</td>\n",
              "      <td>77.48</td>\n",
              "      <td>NaN</td>\n",
              "    </tr>\n",
              "    <tr>\n",
              "      <th>1490</th>\n",
              "      <td>2019-08-01</td>\n",
              "      <td>Butiá</td>\n",
              "      <td>butia</td>\n",
              "      <td>73</td>\n",
              "      <td>clone urograndis 2361</td>\n",
              "      <td>7.29</td>\n",
              "      <td>351.0</td>\n",
              "      <td>13.000</td>\n",
              "      <td>7.588710</td>\n",
              "      <td>-</td>\n",
              "      <td>1.30</td>\n",
              "      <td>238.91</td>\n",
              "      <td>9.69</td>\n",
              "      <td>4.87</td>\n",
              "      <td>77.48</td>\n",
              "      <td>NaN</td>\n",
              "    </tr>\n",
              "    <tr>\n",
              "      <th>1677</th>\n",
              "      <td>2019-09-01</td>\n",
              "      <td>Butiá</td>\n",
              "      <td>butia</td>\n",
              "      <td>73</td>\n",
              "      <td>clone urograndis 2361</td>\n",
              "      <td>7.29</td>\n",
              "      <td>356.0</td>\n",
              "      <td>24.680</td>\n",
              "      <td>7.588710</td>\n",
              "      <td>-</td>\n",
              "      <td>3.23</td>\n",
              "      <td>245.75</td>\n",
              "      <td>9.92</td>\n",
              "      <td>4.12</td>\n",
              "      <td>75.56</td>\n",
              "      <td>NaN</td>\n",
              "    </tr>\n",
              "    <tr>\n",
              "      <th>1678</th>\n",
              "      <td>2019-09-01</td>\n",
              "      <td>Butiá</td>\n",
              "      <td>butia</td>\n",
              "      <td>73</td>\n",
              "      <td>clone urograndis 2361</td>\n",
              "      <td>7.29</td>\n",
              "      <td>357.0</td>\n",
              "      <td>78.130</td>\n",
              "      <td>7.588710</td>\n",
              "      <td>-</td>\n",
              "      <td>6.84</td>\n",
              "      <td>245.75</td>\n",
              "      <td>9.92</td>\n",
              "      <td>4.12</td>\n",
              "      <td>75.56</td>\n",
              "      <td>NaN</td>\n",
              "    </tr>\n",
              "    <tr>\n",
              "      <th>1681</th>\n",
              "      <td>2019-09-01</td>\n",
              "      <td>Butiá</td>\n",
              "      <td>butia</td>\n",
              "      <td>73</td>\n",
              "      <td>clone urograndis 2361</td>\n",
              "      <td>7.29</td>\n",
              "      <td>357.0</td>\n",
              "      <td>55.500</td>\n",
              "      <td>7.588710</td>\n",
              "      <td>-</td>\n",
              "      <td>4.84</td>\n",
              "      <td>245.75</td>\n",
              "      <td>9.92</td>\n",
              "      <td>4.12</td>\n",
              "      <td>75.56</td>\n",
              "      <td>NaN</td>\n",
              "    </tr>\n",
              "    <tr>\n",
              "      <th>1684</th>\n",
              "      <td>2019-09-01</td>\n",
              "      <td>Butiá</td>\n",
              "      <td>itambe</td>\n",
              "      <td>39</td>\n",
              "      <td>semente saligna ecoplant</td>\n",
              "      <td>12.53</td>\n",
              "      <td>274.0</td>\n",
              "      <td>86.130</td>\n",
              "      <td>11.753973</td>\n",
              "      <td>-</td>\n",
              "      <td>6.96</td>\n",
              "      <td>245.75</td>\n",
              "      <td>9.92</td>\n",
              "      <td>4.12</td>\n",
              "      <td>75.56</td>\n",
              "      <td>NaN</td>\n",
              "    </tr>\n",
              "    <tr>\n",
              "      <th>1691</th>\n",
              "      <td>2019-09-01</td>\n",
              "      <td>Butiá</td>\n",
              "      <td>itambe</td>\n",
              "      <td>41</td>\n",
              "      <td>semente</td>\n",
              "      <td>12.66</td>\n",
              "      <td>232.0</td>\n",
              "      <td>49.160</td>\n",
              "      <td>7.588710</td>\n",
              "      <td>-</td>\n",
              "      <td>4.56</td>\n",
              "      <td>245.75</td>\n",
              "      <td>9.92</td>\n",
              "      <td>4.12</td>\n",
              "      <td>75.56</td>\n",
              "      <td>NaN</td>\n",
              "    </tr>\n",
              "    <tr>\n",
              "      <th>1693</th>\n",
              "      <td>2019-09-01</td>\n",
              "      <td>Butiá</td>\n",
              "      <td>itambe</td>\n",
              "      <td>41</td>\n",
              "      <td>semente</td>\n",
              "      <td>12.66</td>\n",
              "      <td>233.0</td>\n",
              "      <td>57.160</td>\n",
              "      <td>7.588710</td>\n",
              "      <td>-</td>\n",
              "      <td>6.38</td>\n",
              "      <td>245.75</td>\n",
              "      <td>9.92</td>\n",
              "      <td>4.12</td>\n",
              "      <td>75.56</td>\n",
              "      <td>NaN</td>\n",
              "    </tr>\n",
              "    <tr>\n",
              "      <th>1695</th>\n",
              "      <td>2019-09-01</td>\n",
              "      <td>Butiá</td>\n",
              "      <td>itambe</td>\n",
              "      <td>41</td>\n",
              "      <td>semente</td>\n",
              "      <td>12.66</td>\n",
              "      <td>236.0</td>\n",
              "      <td>67.270</td>\n",
              "      <td>7.588710</td>\n",
              "      <td>-</td>\n",
              "      <td>6.20</td>\n",
              "      <td>245.75</td>\n",
              "      <td>9.92</td>\n",
              "      <td>4.12</td>\n",
              "      <td>75.56</td>\n",
              "      <td>NaN</td>\n",
              "    </tr>\n",
              "    <tr>\n",
              "      <th>1696</th>\n",
              "      <td>2019-09-01</td>\n",
              "      <td>Butiá</td>\n",
              "      <td>itambe</td>\n",
              "      <td>39</td>\n",
              "      <td>semente saligna ecoplant</td>\n",
              "      <td>12.53</td>\n",
              "      <td>285.0</td>\n",
              "      <td>46.250</td>\n",
              "      <td>7.588710</td>\n",
              "      <td>-</td>\n",
              "      <td>6.30</td>\n",
              "      <td>245.75</td>\n",
              "      <td>9.92</td>\n",
              "      <td>4.12</td>\n",
              "      <td>75.56</td>\n",
              "      <td>NaN</td>\n",
              "    </tr>\n",
              "    <tr>\n",
              "      <th>1937</th>\n",
              "      <td>2019-11-01</td>\n",
              "      <td>Maringá</td>\n",
              "      <td>ticos</td>\n",
              "      <td>0</td>\n",
              "      <td>diversos</td>\n",
              "      <td>11.55</td>\n",
              "      <td>635.0</td>\n",
              "      <td>231.535</td>\n",
              "      <td>41.320000</td>\n",
              "      <td>-</td>\n",
              "      <td>7.61</td>\n",
              "      <td>252.72</td>\n",
              "      <td>10.10</td>\n",
              "      <td>5.25</td>\n",
              "      <td>79.86</td>\n",
              "      <td>NaN</td>\n",
              "    </tr>\n",
              "    <tr>\n",
              "      <th>2837</th>\n",
              "      <td>2020-06-01</td>\n",
              "      <td>Maringá</td>\n",
              "      <td>ticos</td>\n",
              "      <td>0</td>\n",
              "      <td>diversos</td>\n",
              "      <td>10.83</td>\n",
              "      <td>644.0</td>\n",
              "      <td>231.535</td>\n",
              "      <td>78.280000</td>\n",
              "      <td>-</td>\n",
              "      <td>7.31</td>\n",
              "      <td>242.32</td>\n",
              "      <td>10.36</td>\n",
              "      <td>4.79</td>\n",
              "      <td>76.33</td>\n",
              "      <td>NaN</td>\n",
              "    </tr>\n",
              "    <tr>\n",
              "      <th>2838</th>\n",
              "      <td>2020-06-01</td>\n",
              "      <td>Maringá</td>\n",
              "      <td>ticos</td>\n",
              "      <td>0</td>\n",
              "      <td>diversos</td>\n",
              "      <td>10.83</td>\n",
              "      <td>644.0</td>\n",
              "      <td>231.535</td>\n",
              "      <td>39.590000</td>\n",
              "      <td>-</td>\n",
              "      <td>6.71</td>\n",
              "      <td>242.32</td>\n",
              "      <td>10.36</td>\n",
              "      <td>4.79</td>\n",
              "      <td>76.33</td>\n",
              "      <td>NaN</td>\n",
              "    </tr>\n",
              "    <tr>\n",
              "      <th>3016</th>\n",
              "      <td>2020-07-01</td>\n",
              "      <td>Tamanduá</td>\n",
              "      <td>fecho</td>\n",
              "      <td>0</td>\n",
              "      <td>diversos</td>\n",
              "      <td>11.55</td>\n",
              "      <td>877.0</td>\n",
              "      <td>231.535</td>\n",
              "      <td>77.430000</td>\n",
              "      <td>-</td>\n",
              "      <td>12.21</td>\n",
              "      <td>242.04</td>\n",
              "      <td>10.84</td>\n",
              "      <td>4.76</td>\n",
              "      <td>74.23</td>\n",
              "      <td>NaN</td>\n",
              "    </tr>\n",
              "    <tr>\n",
              "      <th>3156</th>\n",
              "      <td>2020-08-01</td>\n",
              "      <td>Tamanduá</td>\n",
              "      <td>fecho</td>\n",
              "      <td>42</td>\n",
              "      <td>clone saligna 2864</td>\n",
              "      <td>8.49</td>\n",
              "      <td>364.0</td>\n",
              "      <td>35.280</td>\n",
              "      <td>3.440000</td>\n",
              "      <td>-</td>\n",
              "      <td>4.04</td>\n",
              "      <td>241.26</td>\n",
              "      <td>10.52</td>\n",
              "      <td>5.44</td>\n",
              "      <td>75.07</td>\n",
              "      <td>NaN</td>\n",
              "    </tr>\n",
              "  </tbody>\n",
              "</table>\n",
              "</div>\n",
              "      <button class=\"colab-df-convert\" onclick=\"convertToInteractive('df-34b24631-d71d-42a0-b553-2033bde87942')\"\n",
              "              title=\"Convert this dataframe to an interactive table.\"\n",
              "              style=\"display:none;\">\n",
              "        \n",
              "  <svg xmlns=\"http://www.w3.org/2000/svg\" height=\"24px\"viewBox=\"0 0 24 24\"\n",
              "       width=\"24px\">\n",
              "    <path d=\"M0 0h24v24H0V0z\" fill=\"none\"/>\n",
              "    <path d=\"M18.56 5.44l.94 2.06.94-2.06 2.06-.94-2.06-.94-.94-2.06-.94 2.06-2.06.94zm-11 1L8.5 8.5l.94-2.06 2.06-.94-2.06-.94L8.5 2.5l-.94 2.06-2.06.94zm10 10l.94 2.06.94-2.06 2.06-.94-2.06-.94-.94-2.06-.94 2.06-2.06.94z\"/><path d=\"M17.41 7.96l-1.37-1.37c-.4-.4-.92-.59-1.43-.59-.52 0-1.04.2-1.43.59L10.3 9.45l-7.72 7.72c-.78.78-.78 2.05 0 2.83L4 21.41c.39.39.9.59 1.41.59.51 0 1.02-.2 1.41-.59l7.78-7.78 2.81-2.81c.8-.78.8-2.07 0-2.86zM5.41 20L4 18.59l7.72-7.72 1.47 1.35L5.41 20z\"/>\n",
              "  </svg>\n",
              "      </button>\n",
              "      \n",
              "  <style>\n",
              "    .colab-df-container {\n",
              "      display:flex;\n",
              "      flex-wrap:wrap;\n",
              "      gap: 12px;\n",
              "    }\n",
              "\n",
              "    .colab-df-convert {\n",
              "      background-color: #E8F0FE;\n",
              "      border: none;\n",
              "      border-radius: 50%;\n",
              "      cursor: pointer;\n",
              "      display: none;\n",
              "      fill: #1967D2;\n",
              "      height: 32px;\n",
              "      padding: 0 0 0 0;\n",
              "      width: 32px;\n",
              "    }\n",
              "\n",
              "    .colab-df-convert:hover {\n",
              "      background-color: #E2EBFA;\n",
              "      box-shadow: 0px 1px 2px rgba(60, 64, 67, 0.3), 0px 1px 3px 1px rgba(60, 64, 67, 0.15);\n",
              "      fill: #174EA6;\n",
              "    }\n",
              "\n",
              "    [theme=dark] .colab-df-convert {\n",
              "      background-color: #3B4455;\n",
              "      fill: #D2E3FC;\n",
              "    }\n",
              "\n",
              "    [theme=dark] .colab-df-convert:hover {\n",
              "      background-color: #434B5C;\n",
              "      box-shadow: 0px 1px 3px 1px rgba(0, 0, 0, 0.15);\n",
              "      filter: drop-shadow(0px 1px 2px rgba(0, 0, 0, 0.3));\n",
              "      fill: #FFFFFF;\n",
              "    }\n",
              "  </style>\n",
              "\n",
              "      <script>\n",
              "        const buttonEl =\n",
              "          document.querySelector('#df-34b24631-d71d-42a0-b553-2033bde87942 button.colab-df-convert');\n",
              "        buttonEl.style.display =\n",
              "          google.colab.kernel.accessAllowed ? 'block' : 'none';\n",
              "\n",
              "        async function convertToInteractive(key) {\n",
              "          const element = document.querySelector('#df-34b24631-d71d-42a0-b553-2033bde87942');\n",
              "          const dataTable =\n",
              "            await google.colab.kernel.invokeFunction('convertToInteractive',\n",
              "                                                     [key], {});\n",
              "          if (!dataTable) return;\n",
              "\n",
              "          const docLinkHtml = 'Like what you see? Visit the ' +\n",
              "            '<a target=\"_blank\" href=https://colab.research.google.com/notebooks/data_table.ipynb>data table notebook</a>'\n",
              "            + ' to learn more about interactive tables.';\n",
              "          element.innerHTML = '';\n",
              "          dataTable['output_type'] = 'display_data';\n",
              "          await google.colab.output.renderOutput(dataTable, element);\n",
              "          const docLink = document.createElement('div');\n",
              "          docLink.innerHTML = docLinkHtml;\n",
              "          element.appendChild(docLink);\n",
              "        }\n",
              "      </script>\n",
              "    </div>\n",
              "  </div>\n",
              "  "
            ],
            "text/plain": [
              "           Data                 UPR     Fazenda  ...  Umidade   CF %  Comprimento\n",
              "170  2019-02-01  Maringá Retangular  maringa ii  ...     6.97  81.52          NaN\n",
              "500  2019-04-01  Maringá Retangular  maringa ii  ...     3.08  80.22          NaN\n",
              "682  2019-05-01  Maringá Retangular  maringa ii  ...     7.47  85.37          NaN\n",
              "685  2019-05-01  Maringá Retangular  maringa ii  ...     7.47  85.37          NaN\n",
              "1481 2019-08-01               Butiá       butia  ...     4.87  77.48          NaN\n",
              "1483 2019-08-01               Butiá       butia  ...     4.87  77.48          NaN\n",
              "1490 2019-08-01               Butiá       butia  ...     4.87  77.48          NaN\n",
              "1677 2019-09-01               Butiá       butia  ...     4.12  75.56          NaN\n",
              "1678 2019-09-01               Butiá       butia  ...     4.12  75.56          NaN\n",
              "1681 2019-09-01               Butiá       butia  ...     4.12  75.56          NaN\n",
              "1684 2019-09-01               Butiá      itambe  ...     4.12  75.56          NaN\n",
              "1691 2019-09-01               Butiá      itambe  ...     4.12  75.56          NaN\n",
              "1693 2019-09-01               Butiá      itambe  ...     4.12  75.56          NaN\n",
              "1695 2019-09-01               Butiá      itambe  ...     4.12  75.56          NaN\n",
              "1696 2019-09-01               Butiá      itambe  ...     4.12  75.56          NaN\n",
              "1937 2019-11-01             Maringá       ticos  ...     5.25  79.86          NaN\n",
              "2837 2020-06-01             Maringá       ticos  ...     4.79  76.33          NaN\n",
              "2838 2020-06-01             Maringá       ticos  ...     4.79  76.33          NaN\n",
              "3016 2020-07-01            Tamanduá       fecho  ...     4.76  74.23          NaN\n",
              "3156 2020-08-01            Tamanduá       fecho  ...     5.44  75.07          NaN\n",
              "\n",
              "[20 rows x 16 columns]"
            ]
          },
          "metadata": {},
          "execution_count": 30
        }
      ]
    },
    {
      "cell_type": "markdown",
      "source": [
        "O histograma a baixo mostra o quociente de tiço gerado por madeira, vamos utilizar a mediana novamente para a substituição."
      ],
      "metadata": {
        "id": "zIXWJZRs0opJ"
      }
    },
    {
      "cell_type": "code",
      "source": [
        "mostrar_metricas_hist(dados.query('`Tiço Gerado` != \" -   \"')['Tiço Gerado'] / dados.query('`Tiço Gerado` != \" -   \"')['Madeira'],'tiço gerado / madeira')"
      ],
      "metadata": {
        "id": "tlQHe-I_zYPI",
        "colab": {
          "base_uri": "https://localhost:8080/",
          "height": 548
        },
        "outputId": "692dea17-4e69-4e9d-de95-547c2803a8c0"
      },
      "execution_count": 31,
      "outputs": [
        {
          "output_type": "stream",
          "name": "stdout",
          "text": [
            "Tamanho da seleção: 3711\n",
            "\n",
            "Medidas de posição e dispersão:\n",
            "count     3711.000000\n",
            "unique    3565.000000\n",
            "top          0.114712\n",
            "freq         6.000000\n",
            "dtype: float64\n",
            "\n",
            "Histograma tiço gerado / madeira\n"
          ]
        },
        {
          "output_type": "display_data",
          "data": {
            "image/png": "[encoded data removed]",
            "text/plain": [
              "<Figure size 432x432 with 1 Axes>"
            ]
          },
          "metadata": {
            "needs_background": "light"
          }
        }
      ]
    },
    {
      "cell_type": "markdown",
      "source": [
        "Substituição concluída"
      ],
      "metadata": {
        "id": "-P8RPTXA1XKi"
      }
    },
    {
      "cell_type": "code",
      "source": [
        "dados['Tiço Gerado'] = [(dados.query('`Tiço Gerado` != \" -   \"')['Tiço Gerado'] / dados.query('`Tiço Gerado` != \" -   \"')['Madeira']).median() if entrada == \" -   \" else entrada for entrada in dados['Tiço Gerado']]\n",
        "dados['Tiço Gerado'].describe()"
      ],
      "metadata": {
        "id": "_D_OyHslz9jh",
        "colab": {
          "base_uri": "https://localhost:8080/"
        },
        "outputId": "022e1b13-63af-4fc1-bfaa-fea8b03f0055"
      },
      "execution_count": 32,
      "outputs": [
        {
          "output_type": "execute_result",
          "data": {
            "text/plain": [
              "count    3731.000000\n",
              "mean       25.932886\n",
              "std        25.092590\n",
              "min         0.122937\n",
              "25%         8.525000\n",
              "50%        18.000000\n",
              "75%        32.070000\n",
              "max       180.270000\n",
              "Name: Tiço Gerado, dtype: float64"
            ]
          },
          "metadata": {},
          "execution_count": 32
        }
      ]
    },
    {
      "cell_type": "markdown",
      "source": [
        "## Variável `Produção`\n",
        "\n",
        "Nesta variável não foi necessário tratamento"
      ],
      "metadata": {
        "id": "pGcfE9CA1gSB"
      }
    },
    {
      "cell_type": "code",
      "source": [
        "dados['Produção'].describe()"
      ],
      "metadata": {
        "id": "ULjz7GEq1kBL",
        "colab": {
          "base_uri": "https://localhost:8080/"
        },
        "outputId": "c28edc89-9794-480c-d9fd-ad3478489c06"
      },
      "execution_count": 33,
      "outputs": [
        {
          "output_type": "execute_result",
          "data": {
            "text/plain": [
              "count    3731.000000\n",
              "mean       21.187296\n",
              "std        17.686824\n",
              "min         0.410000\n",
              "25%         8.885000\n",
              "50%        16.370000\n",
              "75%        25.050000\n",
              "max       135.740000\n",
              "Name: Produção, dtype: float64"
            ]
          },
          "metadata": {},
          "execution_count": 33
        }
      ]
    },
    {
      "cell_type": "markdown",
      "source": [
        "## Variável `Densidade`\n",
        "\n",
        "Encontramos valores iguais a zero, o quais não fazem sentido, vamos passar eles para ausentes e fazer o tratamento de uma vez."
      ],
      "metadata": {
        "id": "0o6qK53y4Fn6"
      }
    },
    {
      "cell_type": "code",
      "source": [
        "mostrar_metricas_hist(dados['Densidade'],\"densidade\")"
      ],
      "metadata": {
        "id": "15OZypm54Jmq",
        "colab": {
          "base_uri": "https://localhost:8080/",
          "height": 617
        },
        "outputId": "a8a1645d-3c16-41df-8920-9bc5b9a65c02"
      },
      "execution_count": 34,
      "outputs": [
        {
          "output_type": "stream",
          "name": "stdout",
          "text": [
            "Tamanho da seleção: 3731\n",
            "\n",
            "Medidas de posição e dispersão:\n",
            "count    3711.000000\n",
            "mean      247.783269\n",
            "std        16.662546\n",
            "min         0.000000\n",
            "25%       241.710000\n",
            "50%       247.370000\n",
            "75%       254.940000\n",
            "max       272.630000\n",
            "Name: Densidade, dtype: float64\n",
            "\n",
            "Histograma densidade\n"
          ]
        },
        {
          "output_type": "display_data",
          "data": {
            "image/png": "[encoded data removed]",
            "text/plain": [
              "<Figure size 432x432 with 1 Axes>"
            ]
          },
          "metadata": {
            "needs_background": "light"
          }
        }
      ]
    },
    {
      "cell_type": "code",
      "source": [
        "print('valor média abaixo de 50:',dados[dados['Densidade'] <50]['Densidade'].mean())"
      ],
      "metadata": {
        "id": "Ju6HdRii4YCT",
        "colab": {
          "base_uri": "https://localhost:8080/"
        },
        "outputId": "fc78ca76-26cc-424f-f72f-1acf11885ac1"
      },
      "execution_count": 35,
      "outputs": [
        {
          "output_type": "stream",
          "name": "stdout",
          "text": [
            "valor média abaixo de 50: 0.0\n"
          ]
        }
      ]
    },
    {
      "cell_type": "markdown",
      "source": [
        "Utilizando-se da média, pois segue uma distribuição normal sem presença de possíveis outliers, para a substituição dos valores ausentes"
      ],
      "metadata": {
        "id": "p3l0lmmm50JV"
      }
    },
    {
      "cell_type": "code",
      "source": [
        "dados['Densidade'] = [np.nan if entrada == 0 else entrada for entrada in dados['Densidade']]\n",
        "mostrar_metricas_hist(dados['Densidade'],\"densidade sem zeros\")"
      ],
      "metadata": {
        "id": "E6sT1wD64juz",
        "colab": {
          "base_uri": "https://localhost:8080/",
          "height": 617
        },
        "outputId": "2d169429-240a-49bc-c97e-84f0cd2ab1d6"
      },
      "execution_count": 36,
      "outputs": [
        {
          "output_type": "stream",
          "name": "stdout",
          "text": [
            "Tamanho da seleção: 3731\n",
            "\n",
            "Medidas de posição e dispersão:\n",
            "count    3700.000000\n",
            "mean      248.519922\n",
            "std         9.764407\n",
            "min       212.660000\n",
            "25%       241.710000\n",
            "50%       247.370000\n",
            "75%       254.940000\n",
            "max       272.630000\n",
            "Name: Densidade, dtype: float64\n",
            "\n",
            "Histograma densidade sem zeros\n"
          ]
        },
        {
          "output_type": "display_data",
          "data": {
            "image/png": "[encoded data removed]",
            "text/plain": [
              "<Figure size 432x432 with 1 Axes>"
            ]
          },
          "metadata": {
            "needs_background": "light"
          }
        }
      ]
    },
    {
      "cell_type": "code",
      "source": [
        "dados['Densidade'].fillna(dados['Densidade'].mean(), inplace = True)\n",
        "print(\"quantidade de valores ausentes pós tratamento:\",dados['Densidade'].isnull().sum())"
      ],
      "metadata": {
        "id": "eaUoAvrB44ja",
        "colab": {
          "base_uri": "https://localhost:8080/"
        },
        "outputId": "94f24748-1448-44b7-a287-d67abbf73ce8"
      },
      "execution_count": 37,
      "outputs": [
        {
          "output_type": "stream",
          "name": "stdout",
          "text": [
            "quantidade de valores ausentes pós tratamento: 0\n"
          ]
        }
      ]
    },
    {
      "cell_type": "markdown",
      "source": [
        "## Variável `Finos`\n",
        "\n",
        "Seguimos o mesmo pensamento da variável anterior"
      ],
      "metadata": {
        "id": "J5sI6A056BGj"
      }
    },
    {
      "cell_type": "code",
      "source": [
        "mostrar_metricas_hist(dados['Finos'],'finos bruto')"
      ],
      "metadata": {
        "id": "OGZkGAf16Gj4",
        "colab": {
          "base_uri": "https://localhost:8080/",
          "height": 617
        },
        "outputId": "bebbcbc5-0210-4f59-809e-897121863806"
      },
      "execution_count": 38,
      "outputs": [
        {
          "output_type": "stream",
          "name": "stdout",
          "text": [
            "Tamanho da seleção: 3731\n",
            "\n",
            "Medidas de posição e dispersão:\n",
            "count    3711.000000\n",
            "mean       10.612614\n",
            "std         0.872033\n",
            "min         0.000000\n",
            "25%        10.240000\n",
            "50%        10.630000\n",
            "75%        10.960000\n",
            "max        14.080000\n",
            "Name: Finos, dtype: float64\n",
            "\n",
            "Histograma finos bruto\n"
          ]
        },
        {
          "output_type": "display_data",
          "data": {
            "image/png": "[encoded data removed]",
            "text/plain": [
              "<Figure size 432x432 with 1 Axes>"
            ]
          },
          "metadata": {
            "needs_background": "light"
          }
        }
      ]
    },
    {
      "cell_type": "code",
      "source": [
        "dados['Finos'] = [np.nan if entrada == 0 else entrada for entrada in dados['Finos']]\n",
        "dados['Finos'].fillna(dados['Finos'].mean(), inplace = True)\n",
        "mostrar_metricas_hist(dados['Finos'],'finos tratado')"
      ],
      "metadata": {
        "id": "5uIvPkxG6QVw",
        "colab": {
          "base_uri": "https://localhost:8080/",
          "height": 617
        },
        "outputId": "9f3210c9-0e11-4483-b38a-07addc79f554"
      },
      "execution_count": 39,
      "outputs": [
        {
          "output_type": "stream",
          "name": "stdout",
          "text": [
            "Tamanho da seleção: 3731\n",
            "\n",
            "Medidas de posição e dispersão:\n",
            "count    3731.000000\n",
            "mean       10.644165\n",
            "std         0.650562\n",
            "min         6.700000\n",
            "25%        10.270000\n",
            "50%        10.630000\n",
            "75%        10.960000\n",
            "max        14.080000\n",
            "Name: Finos, dtype: float64\n",
            "\n",
            "Histograma finos tratado\n"
          ]
        },
        {
          "output_type": "display_data",
          "data": {
            "image/png": "[encoded data removed]",
            "text/plain": [
              "<Figure size 432x432 with 1 Axes>"
            ]
          },
          "metadata": {
            "needs_background": "light"
          }
        }
      ]
    },
    {
      "cell_type": "markdown",
      "source": [
        "## Variável `Umidade`:\n",
        "\n",
        "Seguimos o mesmo pensamento da variável anterior"
      ],
      "metadata": {
        "id": "WElJtcPo6EKi"
      }
    },
    {
      "cell_type": "code",
      "source": [
        "mostrar_metricas_hist(dados['Umidade'],'umidade bruto')"
      ],
      "metadata": {
        "id": "XIiSqkjn6jwb",
        "colab": {
          "base_uri": "https://localhost:8080/",
          "height": 617
        },
        "outputId": "9f45c99c-e00d-4614-a9bb-d7cb4ee1854f"
      },
      "execution_count": 40,
      "outputs": [
        {
          "output_type": "stream",
          "name": "stdout",
          "text": [
            "Tamanho da seleção: 3731\n",
            "\n",
            "Medidas de posição e dispersão:\n",
            "count    3711.000000\n",
            "mean        5.209510\n",
            "std         1.042252\n",
            "min         0.000000\n",
            "25%         4.470000\n",
            "50%         5.160000\n",
            "75%         5.790000\n",
            "max         9.910000\n",
            "Name: Umidade, dtype: float64\n",
            "\n",
            "Histograma umidade bruto\n"
          ]
        },
        {
          "output_type": "display_data",
          "data": {
            "image/png": "[encoded data removed]",
            "text/plain": [
              "<Figure size 432x432 with 1 Axes>"
            ]
          },
          "metadata": {
            "needs_background": "light"
          }
        }
      ]
    },
    {
      "cell_type": "code",
      "source": [
        "dados['Umidade'] = [np.nan if entrada == 0 else entrada for entrada in dados['Umidade']]\n",
        "dados['Umidade'].fillna(dados['Umidade'].mean(), inplace = True)\n",
        "mostrar_metricas_hist(dados['Umidade'],'Umidade tratado')"
      ],
      "metadata": {
        "id": "ppTk-D7q6tBq",
        "colab": {
          "base_uri": "https://localhost:8080/",
          "height": 618
        },
        "outputId": "42671d10-99b3-4e6b-88da-49aaf01ff1e7"
      },
      "execution_count": 41,
      "outputs": [
        {
          "output_type": "stream",
          "name": "stdout",
          "text": [
            "Tamanho da seleção: 3731\n",
            "\n",
            "Medidas de posição e dispersão:\n",
            "count    3731.000000\n",
            "mean        5.224997\n",
            "std         1.000096\n",
            "min         2.580000\n",
            "25%         4.490000\n",
            "50%         5.190000\n",
            "75%         5.790000\n",
            "max         9.910000\n",
            "Name: Umidade, dtype: float64\n",
            "\n",
            "Histograma Umidade tratado\n"
          ]
        },
        {
          "output_type": "display_data",
          "data": {
            "image/png": "[encoded data removed]",
            "text/plain": [
              "<Figure size 432x432 with 1 Axes>"
            ]
          },
          "metadata": {
            "needs_background": "light"
          }
        }
      ]
    },
    {
      "cell_type": "markdown",
      "source": [
        "## Variável `CF %`\n",
        "\n",
        "Não foi necessário tratamento."
      ],
      "metadata": {
        "id": "IjWXeEFQ61zC"
      }
    },
    {
      "cell_type": "code",
      "source": [
        "mostrar_metricas_hist(dados['CF %'],'CF %')"
      ],
      "metadata": {
        "id": "6bmzV1Bd64Q7",
        "colab": {
          "base_uri": "https://localhost:8080/",
          "height": 618
        },
        "outputId": "3f1de82b-239f-4150-d3e7-b14186c57618"
      },
      "execution_count": 42,
      "outputs": [
        {
          "output_type": "stream",
          "name": "stdout",
          "text": [
            "Tamanho da seleção: 3731\n",
            "\n",
            "Medidas de posição e dispersão:\n",
            "count    3731.000000\n",
            "mean       77.604522\n",
            "std         2.270390\n",
            "min        71.500000\n",
            "25%        75.940000\n",
            "50%        77.110000\n",
            "75%        79.390000\n",
            "max        89.110000\n",
            "Name: CF %, dtype: float64\n",
            "\n",
            "Histograma CF %\n"
          ]
        },
        {
          "output_type": "display_data",
          "data": {
            "image/png": "[encoded data removed]",
            "text/plain": [
              "<Figure size 432x432 with 1 Axes>"
            ]
          },
          "metadata": {
            "needs_background": "light"
          }
        }
      ]
    },
    {
      "cell_type": "markdown",
      "source": [
        "## Variável `Comprimento`\n",
        "\n",
        "Nesta variável encontramos entradas como texto e comentarios, foram todos tratados."
      ],
      "metadata": {
        "id": "07VxzvGV7EEb"
      }
    },
    {
      "cell_type": "code",
      "source": [
        "comprimento_subs = dict(zip(['*Consumo dos fornos de sexta e de quinta que ficaram pata trás', '5,0m', '3,3m', 'Estimado'],[np.nan, 5, 3.3, np.nan]))\n",
        "\n",
        "lista = []\n",
        "for entrada in dados['Comprimento']:\n",
        "  if entrada in comprimento_subs.keys():\n",
        "    lista.append(comprimento_subs[entrada])\n",
        "  else:\n",
        "    lista.append(entrada)\n",
        "dados['Comprimento'] = lista\n",
        "\n",
        "ausente = dados['Comprimento'][0]\n",
        "dados['Comprimento'] = [dados['Comprimento'].mode() if entrada == ausente else entrada for entrada in dados['Comprimento']]\n",
        "dados['Comprimento'].fillna(float(dados['Comprimento'].mode()), inplace = True)\n",
        "\n",
        "mostrar_metricas_hist(dados['Comprimento'],'Comprimento')"
      ],
      "metadata": {
        "id": "loWipHWoQVTz",
        "colab": {
          "base_uri": "https://localhost:8080/",
          "height": 617
        },
        "outputId": "58dd2d0f-4b75-4d0b-f8e6-f5bac3b800b0"
      },
      "execution_count": 43,
      "outputs": [
        {
          "output_type": "stream",
          "name": "stdout",
          "text": [
            "Tamanho da seleção: 3731\n",
            "\n",
            "Medidas de posição e dispersão:\n",
            "count    3731.000000\n",
            "mean        3.316323\n",
            "std         0.185634\n",
            "min         3.000000\n",
            "25%         3.300000\n",
            "50%         3.300000\n",
            "75%         3.300000\n",
            "max         5.500000\n",
            "Name: Comprimento, dtype: float64\n",
            "\n",
            "Histograma Comprimento\n"
          ]
        },
        {
          "output_type": "display_data",
          "data": {
            "image/png": "[encoded data removed]",
            "text/plain": [
              "<Figure size 432x432 with 1 Axes>"
            ]
          },
          "metadata": {
            "needs_background": "light"
          }
        }
      ]
    },
    {
      "cell_type": "markdown",
      "source": [
        "# Exportando Dados\n",
        "\n",
        "Foi conservado o formato do arquivo com os dados de entrada."
      ],
      "metadata": {
        "id": "rErAGUgfaliU"
      }
    },
    {
      "cell_type": "code",
      "source": [
        "dados.to_excel('/content/base_de_dados_tratado.xlsx', index = False)"
      ],
      "metadata": {
        "id": "NNX2QjMMakok"
      },
      "execution_count": 44,
      "outputs": []
    },
    {
      "cell_type": "markdown",
      "source": [
        "# Visualização dos Dados\n",
        "\n",
        "Nesta parte utilizamos dos dados tratados no PowerBi, para visualizar clique na imagem abaixo."
      ],
      "metadata": {
        "id": "gBYAAllxPDPl"
      }
    },
    {
      "cell_type": "code",
      "source": [
        "powerBiEmbed = 'https://app.powerbi.com/view?r=eyJrIjoiYTg0ZTAwYmMtYWZjMS00NGRmLThmMjctNDZiY2VkOGI5MzU0IiwidCI6ImZlODc4N2JjLWM5MTQtNDY2NS04NTQ3LTI2OGUxNWNiMGQ5YSJ9&pageName=ReportSection'\n",
        "IFrame(powerBiEmbed, width = 1280, height = 720)"
      ],
      "metadata": {
        "colab": {
          "base_uri": "https://localhost:8080/",
          "height": 741
        },
        "id": "0WOd9L17TOQu",
        "outputId": "c431e8d2-c945-429c-c11e-0b4c981ace19"
      },
      "execution_count": 45,
      "outputs": [
        {
          "output_type": "execute_result",
          "data": {
            "text/html": [
              "\n",
              "        <iframe\n",
              "            width=\"1280\"\n",
              "            height=\"720\"\n",
              "            src=\"https://app.powerbi.com/view?r=eyJrIjoiYTg0ZTAwYmMtYWZjMS00NGRmLThmMjctNDZiY2VkOGI5MzU0IiwidCI6ImZlODc4N2JjLWM5MTQtNDY2NS04NTQ3LTI2OGUxNWNiMGQ5YSJ9&pageName=ReportSection\"\n",
              "            frameborder=\"0\"\n",
              "            allowfullscreen\n",
              "        ></iframe>\n",
              "        "
            ],
            "text/plain": [
              "<IPython.lib.display.IFrame at 0x7f3726f3df10>"
            ]
          },
          "metadata": {},
          "execution_count": 45
        }
      ]
    },
    {
      "cell_type": "markdown",
      "source": [
        "# Referências Bibliográficas:\n",
        "- BRITO, J. O. et al. Análise da produção energética e de carvão vegetal de espécies de eucalipto. IPEF, Piracicaba, v. 23, p. 53-56, 1983.\n",
        ", acessado em 19 de fevereiro de 2022 disponível em https://www.ipef.br/publicacoes/scientia/nr23/cap08.pdf"
      ],
      "metadata": {
        "id": "ar-VoOIO_vhb"
      }
    }
  ]
}